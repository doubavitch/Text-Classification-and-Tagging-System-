{
 "nbformat": 4,
 "nbformat_minor": 0,
 "metadata": {
  "colab": {
   "provenance": [],
   "authorship_tag": "ABX9TyOa1plHAACXkTgcBoeah+QG"
  },
  "kernelspec": {
   "name": "python3",
   "language": "python",
   "display_name": "Python 3 (ipykernel)"
  },
  "language_info": {
   "name": "python"
  }
 },
 "cells": [
  {
   "cell_type": "code",
   "execution_count": 32,
   "metadata": {
    "colab": {
     "base_uri": "https://localhost:8080/"
    },
    "collapsed": true,
    "id": "f8jTcjNb1cC3",
    "executionInfo": {
     "status": "ok",
     "timestamp": 1731489997294,
     "user_tz": -60,
     "elapsed": 18788,
     "user": {
      "displayName": "崔舒潮",
      "userId": "04641645966166696888"
     }
    },
    "outputId": "c7c87765-d320-49fb-8d74-c5f70dbc84ec",
    "ExecuteTime": {
     "end_time": "2024-11-15T10:20:29.790041100Z",
     "start_time": "2024-11-15T10:20:22.728867600Z"
    }
   },
   "outputs": [
    {
     "name": "stdout",
     "output_type": "stream",
     "text": [
      "Collecting en-core-web-sm==3.8.0\n",
      "  Downloading https://github.com/explosion/spacy-models/releases/download/en_core_web_sm-3.8.0/en_core_web_sm-3.8.0-py3-none-any.whl (12.8 MB)\n",
      "                                              0.0/12.8 MB ? eta -:--:--\n",
      "                                              0.2/12.8 MB 3.5 MB/s eta 0:00:04\n",
      "                                              0.3/12.8 MB 3.2 MB/s eta 0:00:04\n",
      "     -                                        0.6/12.8 MB 4.4 MB/s eta 0:00:03\n",
      "     --                                       0.7/12.8 MB 4.8 MB/s eta 0:00:03\n",
      "     ---                                      1.0/12.8 MB 4.3 MB/s eta 0:00:03\n",
      "     ---                                      1.1/12.8 MB 4.5 MB/s eta 0:00:03\n",
      "     ----                                     1.3/12.8 MB 4.0 MB/s eta 0:00:03\n",
      "     -----                                    1.6/12.8 MB 4.4 MB/s eta 0:00:03\n",
      "     ------                                   1.9/12.8 MB 4.8 MB/s eta 0:00:03\n",
      "     ------                                   2.2/12.8 MB 4.8 MB/s eta 0:00:03\n",
      "     -------                                  2.4/12.8 MB 4.9 MB/s eta 0:00:03\n",
      "     --------                                 2.7/12.8 MB 4.9 MB/s eta 0:00:03\n",
      "     ---------                                2.9/12.8 MB 5.0 MB/s eta 0:00:02\n",
      "     ---------                                3.0/12.8 MB 4.6 MB/s eta 0:00:03\n",
      "     ----------                               3.3/12.8 MB 4.6 MB/s eta 0:00:03\n",
      "     ----------                               3.4/12.8 MB 4.5 MB/s eta 0:00:03\n",
      "     -----------                              3.7/12.8 MB 4.7 MB/s eta 0:00:02\n",
      "     ------------                             3.9/12.8 MB 4.6 MB/s eta 0:00:02\n",
      "     -------------                            4.2/12.8 MB 4.7 MB/s eta 0:00:02\n",
      "     -------------                            4.4/12.8 MB 4.8 MB/s eta 0:00:02\n",
      "     --------------                           4.7/12.8 MB 4.8 MB/s eta 0:00:02\n",
      "     ---------------                          5.0/12.8 MB 4.9 MB/s eta 0:00:02\n",
      "     ----------------                         5.4/12.8 MB 5.0 MB/s eta 0:00:02\n",
      "     -----------------                        5.7/12.8 MB 5.1 MB/s eta 0:00:02\n",
      "     ------------------                       6.1/12.8 MB 5.2 MB/s eta 0:00:02\n",
      "     --------------------                     6.4/12.8 MB 5.3 MB/s eta 0:00:02\n",
      "     --------------------                     6.7/12.8 MB 5.3 MB/s eta 0:00:02\n",
      "     ---------------------                    7.0/12.8 MB 5.4 MB/s eta 0:00:02\n",
      "     -----------------------                  7.4/12.8 MB 5.4 MB/s eta 0:00:01\n",
      "     ------------------------                 7.8/12.8 MB 5.5 MB/s eta 0:00:01\n",
      "     -------------------------                8.0/12.8 MB 5.6 MB/s eta 0:00:01\n",
      "     -------------------------                8.3/12.8 MB 5.6 MB/s eta 0:00:01\n",
      "     -------------------------                8.3/12.8 MB 5.3 MB/s eta 0:00:01\n",
      "     --------------------------               8.4/12.8 MB 5.3 MB/s eta 0:00:01\n",
      "     ---------------------------              8.8/12.8 MB 5.4 MB/s eta 0:00:01\n",
      "     ----------------------------             9.2/12.8 MB 5.4 MB/s eta 0:00:01\n",
      "     -----------------------------            9.3/12.8 MB 5.4 MB/s eta 0:00:01\n",
      "     ------------------------------           9.7/12.8 MB 5.4 MB/s eta 0:00:01\n",
      "     ------------------------------           9.7/12.8 MB 5.3 MB/s eta 0:00:01\n",
      "     ------------------------------           9.9/12.8 MB 5.3 MB/s eta 0:00:01\n",
      "     -------------------------------          10.1/12.8 MB 5.2 MB/s eta 0:00:01\n",
      "     --------------------------------         10.4/12.8 MB 5.3 MB/s eta 0:00:01\n",
      "     ---------------------------------        10.6/12.8 MB 5.4 MB/s eta 0:00:01\n",
      "     ----------------------------------       10.9/12.8 MB 5.5 MB/s eta 0:00:01\n",
      "     -----------------------------------      11.2/12.8 MB 5.5 MB/s eta 0:00:01\n",
      "     ------------------------------------     11.8/12.8 MB 5.4 MB/s eta 0:00:01\n",
      "     -------------------------------------    11.9/12.8 MB 5.3 MB/s eta 0:00:01\n",
      "     --------------------------------------   12.3/12.8 MB 5.4 MB/s eta 0:00:01\n",
      "     ---------------------------------------  12.6/12.8 MB 5.4 MB/s eta 0:00:01\n",
      "     ---------------------------------------  12.8/12.8 MB 5.4 MB/s eta 0:00:01\n",
      "     ---------------------------------------- 12.8/12.8 MB 5.3 MB/s eta 0:00:00\n",
      "Installing collected packages: en-core-web-sm\n",
      "Successfully installed en-core-web-sm-3.8.0\n",
      "\u001B[38;5;2m[+] Download and installation successful\u001B[0m\n",
      "You can now load the package via spacy.load('en_core_web_sm')\n"
     ]
    },
    {
     "name": "stderr",
     "output_type": "stream",
     "text": [
      "\n",
      "A module that was compiled using NumPy 1.x cannot be run in\n",
      "NumPy 2.1.3 as it may crash. To support both 1.x and 2.x\n",
      "versions of NumPy, modules must be compiled with NumPy 2.0.\n",
      "Some module may need to rebuild instead e.g. with 'pybind11>=2.12'.\n",
      "\n",
      "If you are a user of the module, the easiest solution will be to\n",
      "downgrade to 'numpy<2' or try to upgrade the affected module.\n",
      "We expect that some modules will need time to support NumPy 2.\n",
      "\n",
      "Traceback (most recent call last):  File \"<frozen runpy>\", line 189, in _run_module_as_main\n",
      "  File \"<frozen runpy>\", line 148, in _get_module_details\n",
      "  File \"<frozen runpy>\", line 112, in _get_module_details\n",
      "  File \"D:\\软件\\Python\\Lib\\site-packages\\spacy\\__init__.py\", line 6, in <module>\n",
      "    from .errors import setup_default_warnings\n",
      "  File \"D:\\软件\\Python\\Lib\\site-packages\\spacy\\errors.py\", line 3, in <module>\n",
      "    from .compat import Literal\n",
      "  File \"D:\\软件\\Python\\Lib\\site-packages\\spacy\\compat.py\", line 4, in <module>\n",
      "    from thinc.util import copy_array\n",
      "  File \"D:\\软件\\Python\\Lib\\site-packages\\thinc\\__init__.py\", line 5, in <module>\n",
      "    from .config import registry\n",
      "  File \"D:\\软件\\Python\\Lib\\site-packages\\thinc\\config.py\", line 5, in <module>\n",
      "    from .types import Decorator\n",
      "  File \"D:\\软件\\Python\\Lib\\site-packages\\thinc\\types.py\", line 25, in <module>\n",
      "    from .compat import cupy, has_cupy\n",
      "  File \"D:\\软件\\Python\\Lib\\site-packages\\thinc\\compat.py\", line 35, in <module>\n",
      "    import torch\n",
      "  File \"D:\\软件\\Python\\Lib\\site-packages\\torch\\__init__.py\", line 1477, in <module>\n",
      "    from .functional import *  # noqa: F403\n",
      "  File \"D:\\软件\\Python\\Lib\\site-packages\\torch\\functional.py\", line 9, in <module>\n",
      "    import torch.nn.functional as F\n",
      "  File \"D:\\软件\\Python\\Lib\\site-packages\\torch\\nn\\__init__.py\", line 1, in <module>\n",
      "    from .modules import *  # noqa: F403\n",
      "  File \"D:\\软件\\Python\\Lib\\site-packages\\torch\\nn\\modules\\__init__.py\", line 35, in <module>\n",
      "    from .transformer import TransformerEncoder, TransformerDecoder, \\\n",
      "  File \"D:\\软件\\Python\\Lib\\site-packages\\torch\\nn\\modules\\transformer.py\", line 20, in <module>\n",
      "    device: torch.device = torch.device(torch._C._get_default_device()),  # torch.device('cpu'),\n",
      "D:\\软件\\Python\\Lib\\site-packages\\torch\\nn\\modules\\transformer.py:20: UserWarning: Failed to initialize NumPy: _ARRAY_API not found (Triggered internally at ..\\torch\\csrc\\utils\\tensor_numpy.cpp:84.)\n",
      "  device: torch.device = torch.device(torch._C._get_default_device()),  # torch.device('cpu'),\n",
      "\n",
      "[notice] A new release of pip is available: 23.1.2 -> 24.3.1\n",
      "[notice] To update, run: D:\\软件\\Python\\python.exe -m pip install --upgrade pip\n"
     ]
    }
   ],
   "source": [
    "# Change it to the environment location\n",
    "!D:\\软件\\Python\\python.exe -m spacy download en_core_web_sm\n",
    "# !python -m spacy download en_core_web_sm"
   ]
  },
  {
   "cell_type": "code",
   "execution_count": 3,
   "outputs": [
    {
     "name": "stdout",
     "output_type": "stream",
     "text": [
      "Collecting numpy==1.26.4\n",
      "  Using cached numpy-1.26.4-cp311-cp311-win_amd64.whl (15.8 MB)\n",
      "Installing collected packages: numpy\n",
      "Successfully installed numpy-1.26.4\n"
     ]
    },
    {
     "name": "stderr",
     "output_type": "stream",
     "text": [
      "ERROR: pip's dependency resolver does not currently take into account all the packages that are installed. This behaviour is the source of the following dependency conflicts.\n",
      "blis 1.0.1 requires numpy<3.0.0,>=2.0.0, but you have numpy 1.26.4 which is incompatible.\n",
      "spacy-pkuseg 1.0.0 requires numpy<3.0.0,>=2.0.0; python_version >= \"3.9\", but you have numpy 1.26.4 which is incompatible.\n",
      "thinc 8.3.2 requires numpy<2.1.0,>=2.0.0; python_version >= \"3.9\", but you have numpy 1.26.4 which is incompatible.\n",
      "\n",
      "[notice] A new release of pip is available: 23.1.2 -> 24.3.1\n",
      "[notice] To update, run: D:\\软件\\Python\\python.exe -m pip install --upgrade pip\n"
     ]
    }
   ],
   "source": [
    "# !pip install textblob\n",
    "# !pip install --upgrade pandas --user\n",
    "# !pip install --upgrade numpy --user\n",
    "# !pip uninstall numpy\n",
    "# !pip install numpy==1.26.4"
   ],
   "metadata": {
    "collapsed": false,
    "ExecuteTime": {
     "end_time": "2024-11-14T17:33:00.660139100Z",
     "start_time": "2024-11-14T17:32:55.496384900Z"
    }
   }
  },
  {
   "cell_type": "code",
   "source": [
    "import pandas as pd\n",
    "import nltk\n",
    "from nltk.corpus import stopwords\n",
    "from nltk.tokenize import word_tokenize\n",
    "from nltk.stem import PorterStemmer\n",
    "import spacy\n",
    "from collections import Counter\n",
    "from textblob import TextBlob\n",
    "from matplotlib import pyplot as plt\n",
    "import seaborn as sns\n",
    "\n",
    "nltk.download('punkt')\n",
    "nltk.download('stopwords')"
   ],
   "metadata": {
    "colab": {
     "base_uri": "https://localhost:8080/"
    },
    "id": "K4E1zY372Giv",
    "executionInfo": {
     "status": "ok",
     "timestamp": 1731490069404,
     "user_tz": -60,
     "elapsed": 11012,
     "user": {
      "displayName": "崔舒潮",
      "userId": "04641645966166696888"
     }
    },
    "outputId": "74e1dfe4-4208-4f1a-ca45-cd3a90057751",
    "ExecuteTime": {
     "end_time": "2024-11-14T17:53:12.663834600Z",
     "start_time": "2024-11-14T17:53:12.659575700Z"
    }
   },
   "execution_count": 24,
   "outputs": [
    {
     "name": "stderr",
     "output_type": "stream",
     "text": [
      "[nltk_data] Downloading package punkt to\n",
      "[nltk_data]     C:\\Users\\cshch\\AppData\\Roaming\\nltk_data...\n",
      "[nltk_data]   Package punkt is already up-to-date!\n",
      "[nltk_data] Downloading package stopwords to\n",
      "[nltk_data]     C:\\Users\\cshch\\AppData\\Roaming\\nltk_data...\n",
      "[nltk_data]   Package stopwords is already up-to-date!\n"
     ]
    },
    {
     "data": {
      "text/plain": "True"
     },
     "execution_count": 24,
     "metadata": {},
     "output_type": "execute_result"
    }
   ]
  },
  {
   "cell_type": "code",
   "source": [
    "df = pd.read_csv('merged_df.csv')"
   ],
   "metadata": {
    "colab": {
     "base_uri": "https://localhost:8080/"
    },
    "id": "PQr2R7BW3SQn",
    "executionInfo": {
     "status": "ok",
     "timestamp": 1731491190858,
     "user_tz": -60,
     "elapsed": 10971,
     "user": {
      "displayName": "崔舒潮",
      "userId": "04641645966166696888"
     }
    },
    "outputId": "7e95adb9-6f7c-4caf-9291-fcb27680f5e5",
    "ExecuteTime": {
     "end_time": "2024-11-14T17:53:16.563594400Z",
     "start_time": "2024-11-14T17:53:14.460576100Z"
    }
   },
   "execution_count": 25,
   "outputs": [
    {
     "name": "stderr",
     "output_type": "stream",
     "text": [
      "C:\\Users\\cshch\\AppData\\Local\\Temp\\ipykernel_23144\\1097084762.py:1: DtypeWarning: Columns (3) have mixed types. Specify dtype option on import or set low_memory=False.\n",
      "  df = pd.read_csv('merged_df.csv')\n"
     ]
    }
   ]
  },
  {
   "cell_type": "code",
   "source": [
    "df.head()"
   ],
   "metadata": {
    "colab": {
     "base_uri": "https://localhost:8080/",
     "height": 206
    },
    "id": "rpb2SYi55DcK",
    "executionInfo": {
     "status": "ok",
     "timestamp": 1731491243197,
     "user_tz": -60,
     "elapsed": 238,
     "user": {
      "displayName": "崔舒潮",
      "userId": "04641645966166696888"
     }
    },
    "outputId": "fcfb9de7-4258-466b-d90f-da02b1f35e4a",
    "ExecuteTime": {
     "end_time": "2024-11-14T17:34:31.848071500Z",
     "start_time": "2024-11-14T17:34:31.828755700Z"
    }
   },
   "execution_count": 9,
   "outputs": [
    {
     "data": {
      "text/plain": "                                               Title  \\\n0                   The Veldkamp Space of Two-Qubits   \n1  Axiom A polynomial skew products of C^2 and th...   \n2  Quasi Ordinary Singularities, Essential Diviso...   \n3  Third Order Newton's Method for Zernike Polyno...   \n4  Quantum Properties and Gravitational Field of ...   \n\n                                            Abstract  Disciplines Keywords  \\\n0    Given a remarkable representation of the gen...      Physics      NaN   \n1    A polynomial skew product of C^2 is a map of...  Mathematics      NaN   \n2    We define Poincar\\'e series associated to a ...  Mathematics      NaN   \n3    The Zernike radial polynomials are a system ...  Mathematics      NaN   \n4    We find that a field with oscillations of ma...      Physics      NaN   \n\n  Source  \n0  arXiv  \n1  arXiv  \n2  arXiv  \n3  arXiv  \n4  arXiv  ",
      "text/html": "<div>\n<style scoped>\n    .dataframe tbody tr th:only-of-type {\n        vertical-align: middle;\n    }\n\n    .dataframe tbody tr th {\n        vertical-align: top;\n    }\n\n    .dataframe thead th {\n        text-align: right;\n    }\n</style>\n<table border=\"1\" class=\"dataframe\">\n  <thead>\n    <tr style=\"text-align: right;\">\n      <th></th>\n      <th>Title</th>\n      <th>Abstract</th>\n      <th>Disciplines</th>\n      <th>Keywords</th>\n      <th>Source</th>\n    </tr>\n  </thead>\n  <tbody>\n    <tr>\n      <th>0</th>\n      <td>The Veldkamp Space of Two-Qubits</td>\n      <td>Given a remarkable representation of the gen...</td>\n      <td>Physics</td>\n      <td>NaN</td>\n      <td>arXiv</td>\n    </tr>\n    <tr>\n      <th>1</th>\n      <td>Axiom A polynomial skew products of C^2 and th...</td>\n      <td>A polynomial skew product of C^2 is a map of...</td>\n      <td>Mathematics</td>\n      <td>NaN</td>\n      <td>arXiv</td>\n    </tr>\n    <tr>\n      <th>2</th>\n      <td>Quasi Ordinary Singularities, Essential Diviso...</td>\n      <td>We define Poincar\\'e series associated to a ...</td>\n      <td>Mathematics</td>\n      <td>NaN</td>\n      <td>arXiv</td>\n    </tr>\n    <tr>\n      <th>3</th>\n      <td>Third Order Newton's Method for Zernike Polyno...</td>\n      <td>The Zernike radial polynomials are a system ...</td>\n      <td>Mathematics</td>\n      <td>NaN</td>\n      <td>arXiv</td>\n    </tr>\n    <tr>\n      <th>4</th>\n      <td>Quantum Properties and Gravitational Field of ...</td>\n      <td>We find that a field with oscillations of ma...</td>\n      <td>Physics</td>\n      <td>NaN</td>\n      <td>arXiv</td>\n    </tr>\n  </tbody>\n</table>\n</div>"
     },
     "execution_count": 9,
     "metadata": {},
     "output_type": "execute_result"
    }
   ]
  },
  {
   "cell_type": "code",
   "source": [
    "all_tags = [tag for sublist in df['Disciplines'].apply(lambda x: x.split('/')) for tag in sublist]\n",
    "tag_counts = Counter(all_tags)\n",
    "tag_df = pd.DataFrame.from_dict(tag_counts, orient='index', columns=['Count'])\n",
    "tag_df = tag_df.sort_values(by='Count', ascending=False)\n",
    "\n",
    "print()\n",
    "\n",
    "plt.figure(figsize=(6, 4))\n",
    "sns.barplot(y=tag_df.index, hue=tag_df.index, x=tag_df['Count'], palette='viridis')\n",
    "\n",
    "plt.title('Distribution of Disciplines')\n",
    "plt.xlabel('')\n",
    "plt.ylabel('')\n",
    "plt.show()"
   ],
   "metadata": {
    "id": "ryhFjssX6_li",
    "executionInfo": {
     "status": "ok",
     "timestamp": 1731491464021,
     "user_tz": -60,
     "elapsed": 243,
     "user": {
      "displayName": "崔舒潮",
      "userId": "04641645966166696888"
     }
    },
    "ExecuteTime": {
     "end_time": "2024-11-14T17:53:21.136168600Z",
     "start_time": "2024-11-14T17:53:20.691731400Z"
    }
   },
   "execution_count": 26,
   "outputs": [
    {
     "name": "stdout",
     "output_type": "stream",
     "text": [
      "\n"
     ]
    },
    {
     "data": {
      "text/plain": "<Figure size 600x400 with 1 Axes>",
      "image/png": "[encoded data removed]"
     },
     "metadata": {},
     "output_type": "display_data"
    }
   ]
  },
  {
   "cell_type": "code",
   "execution_count": 37,
   "outputs": [
    {
     "name": "stdout",
     "output_type": "stream",
     "text": [
      "                                               Title  \\\n",
      "0                   The Veldkamp Space of Two-Qubits   \n",
      "1  Axiom A polynomial skew products of C^2 and th...   \n",
      "2  Quasi Ordinary Singularities, Essential Diviso...   \n",
      "3  Third Order Newton's Method for Zernike Polyno...   \n",
      "4  Quantum Properties and Gravitational Field of ...   \n",
      "\n",
      "                                            Abstract  Disciplines Keywords  \\\n",
      "0    Given a remarkable representation of the gen...      Physics      NaN   \n",
      "1    A polynomial skew product of C^2 is a map of...  Mathematics      NaN   \n",
      "2    We define Poincar\\'e series associated to a ...  Mathematics      NaN   \n",
      "3    The Zernike radial polynomials are a system ...  Mathematics      NaN   \n",
      "4    We find that a field with oscillations of ma...      Physics      NaN   \n",
      "\n",
      "  Source Disciplines_split  Astronomy  Biology  Chemistry  Computer Science  \\\n",
      "0  arXiv         [Physics]          0        0          0                 0   \n",
      "1  arXiv     [Mathematics]          0        0          0                 0   \n",
      "2  arXiv     [Mathematics]          0        0          0                 0   \n",
      "3  arXiv     [Mathematics]          0        0          0                 0   \n",
      "4  arXiv         [Physics]          0        0          0                 0   \n",
      "\n",
      "   Economics  Education & instruction  Electrical Engineering  \\\n",
      "0          0                        0                       0   \n",
      "1          0                        0                       0   \n",
      "2          0                        0                       0   \n",
      "3          0                        0                       0   \n",
      "4          0                        0                       0   \n",
      "\n",
      "   European & international law  History  Mathematics  Physics  \\\n",
      "0                             0        0            0        1   \n",
      "1                             0        0            1        0   \n",
      "2                             0        0            1        0   \n",
      "3                             0        0            1        0   \n",
      "4                             0        0            0        1   \n",
      "\n",
      "   Social Sciences  Statistics  \n",
      "0                0           0  \n",
      "1                0           0  \n",
      "2                0           0  \n",
      "3                0           0  \n",
      "4                0           0  \n"
     ]
    }
   ],
   "source": [
    "# Transform the dataframe to conduct the rows with disciplines of A/B/C\n",
    "from sklearn.preprocessing import MultiLabelBinarizer\n",
    "df['Disciplines_split'] = df['Disciplines'].apply(lambda x: x.split('/'))\n",
    "mlb = MultiLabelBinarizer()\n",
    "tag_matrix = mlb.fit_transform(df['Disciplines_split'])\n",
    "\n",
    "tag_df = pd.DataFrame(tag_matrix, columns=mlb.classes_)\n",
    "df_Binary = pd.concat([df, tag_df], axis=1)\n",
    "print(df_Binary.head())"
   ],
   "metadata": {
    "collapsed": false,
    "ExecuteTime": {
     "end_time": "2024-11-15T10:32:01.513838800Z",
     "start_time": "2024-11-15T10:32:01.166656100Z"
    }
   }
  },
  {
   "cell_type": "code",
   "source": [
    "# Creating the 'preprocess' function\n",
    "import spacy\n",
    "from nltk.corpus import stopwords\n",
    "from nltk.stem import PorterStemmer\n",
    "import re\n",
    "from textblob import TextBlob\n",
    "import string\n",
    "\n",
    "# Load spaCy model\n",
    "nlp = spacy.load('en_core_web_sm')\n",
    "\n",
    "def preprocess(text):\n",
    "    text_sub = re.sub(r\"^\\[en\\]\\s*\", \"\", text) # delete the [en] in the beginning\n",
    "    # text_rm_punc = text_sub.translate(str.maketrans(\"\", \"\", string.punctuation)) # Remove punctuation in the following\n",
    "    doc = nlp(str(text_sub))\n",
    "\n",
    "    # Tokenization and Remove unwanted characters\n",
    "    tokens = [token.text for token in doc if not token.is_punct]  # Removing punctuation and get tokens\n",
    "    # print(\"Cleaned Tokens:\", tokens)\n",
    "\n",
    "    # Stop Word Removal\n",
    "    stop_words = set(stopwords.words('english'))\n",
    "    filtered_tokens = [token for token in tokens if token.lower() not in stop_words and token.strip()]\n",
    "    # print(\"Filtered Tokens:\", filtered_tokens)\n",
    "\n",
    "    # Lemmatization\n",
    "    lemmatized_tokens = [token.lemma_ for token in doc if token.text.lower() in filtered_tokens]\n",
    "    # print(\"Lemmatized Tokens:\", lemmatized_tokens)\n",
    "\n",
    "    # Stemming\n",
    "    # stemmer = PorterStemmer()\n",
    "    # stemmed_tokens = [stemmer.stem(token) for token in lemmatized_tokens] # Didn't do this step to remain the meaning of the words\n",
    "    # print(\"Stemmed Tokens:\", stemmed_tokens)\n",
    "\n",
    "    # Correct spelling using TextBlob\n",
    "    # corrected_text = ' '.join(stemmed_tokens)  # Join tokens into a string\n",
    "    # blob = TextBlob(corrected_text)\n",
    "    # corrected_review = blob.correct()\n",
    "    # print(\"Corrected Review:\", corrected_review)\n",
    "\n",
    "    return ' '.join(lemmatized_tokens) # Return lemmatized tokens as a space-separated string"
   ],
   "metadata": {
    "colab": {
     "base_uri": "https://localhost:8080/"
    },
    "id": "_8dSVcQYBvWy",
    "executionInfo": {
     "status": "ok",
     "timestamp": 1731494101141,
     "user_tz": -60,
     "elapsed": 1629,
     "user": {
      "displayName": "崔舒潮",
      "userId": "04641645966166696888"
     }
    },
    "outputId": "ce753c0d-74fc-4fdc-bb92-f5c69b10c3d6",
    "ExecuteTime": {
     "end_time": "2024-11-15T14:15:29.205849300Z",
     "start_time": "2024-11-15T14:15:28.938769100Z"
    }
   },
   "execution_count": 61,
   "outputs": []
  },
  {
   "cell_type": "code",
   "execution_count": 67,
   "outputs": [
    {
     "name": "stdout",
     "output_type": "stream",
     "text": [
      "CSV file 4 saved with 10000 rows.\n",
      "CSV file 5 saved with 10000 rows.\n",
      "CSV file 6 saved with 10000 rows.\n",
      "CSV file 7 saved with 10000 rows.\n",
      "CSV file 8 saved with 10000 rows.\n",
      "CSV file 9 saved with 10000 rows.\n",
      "CSV file 10 saved with 10000 rows.\n",
      "CSV file 11 saved with 10000 rows.\n",
      "CSV file 12 saved with 10000 rows.\n",
      "CSV file 13 saved with 10000 rows.\n",
      "CSV file 14 saved with 10000 rows.\n",
      "CSV file 15 saved with 10000 rows.\n",
      "CSV file 16 saved with 10000 rows.\n",
      "CSV file 17 saved with 10000 rows.\n",
      "CSV file 18 saved with 10000 rows.\n",
      "CSV file 19 saved with 10000 rows.\n",
      "CSV file 20 saved with 10000 rows.\n",
      "CSV file 21 saved with 10000 rows.\n",
      "CSV file 22 saved with 10000 rows.\n",
      "CSV file 23 saved with 10000 rows.\n",
      "CSV file 24 saved with 10000 rows.\n",
      "CSV file 25 saved with 10000 rows.\n",
      "CSV file 26 saved with 10000 rows.\n",
      "CSV file 27 saved with 10000 rows.\n",
      "CSV file 28 saved with 10000 rows.\n",
      "CSV file 29 saved with 10000 rows.\n",
      "CSV file 30 saved with 10000 rows.\n",
      "CSV file 31 saved with 10000 rows.\n",
      "CSV file 32 saved with 1568 rows.\n",
      "All files processed and saved successfully.\n"
     ]
    }
   ],
   "source": [
    "import pandas as pd\n",
    "\n",
    "# Make a copy of the original DataFrame\n",
    "df_copy = df_Binary.copy()\n",
    "\n",
    "# Define the chunk size\n",
    "chunk_size = 10000\n",
    "num_chunks = len(df_copy) // chunk_size + 1\n",
    "\n",
    "# Process each chunk and save to CSV\n",
    "for i in range(3,num_chunks):\n",
    "    start_idx = i * chunk_size\n",
    "    end_idx = min((i + 1) * chunk_size, len(df_copy))\n",
    "\n",
    "    # Process the chunk\n",
    "    chunk = df_copy.iloc[start_idx:end_idx].copy()\n",
    "    chunk['processed_abstract'] = chunk['Abstract'].apply(preprocess)\n",
    "\n",
    "    # Save the chunk to CSV\n",
    "    chunk.to_csv(f'merged_df_abstract_preprocess_{i + 1}.csv', index=False)\n",
    "\n",
    "    # Output message indicating the progress\n",
    "    print(f'CSV file {i + 1} saved with {len(chunk)} rows.')\n",
    "\n",
    "# Output completion message\n",
    "print(\"All files processed and saved successfully.\")\n"
   ],
   "metadata": {
    "collapsed": false,
    "ExecuteTime": {
     "end_time": "2024-11-15T15:54:22.779783100Z",
     "start_time": "2024-11-15T14:41:06.679036600Z"
    }
   }
  },
  {
   "cell_type": "code",
   "execution_count": 1,
   "outputs": [
    {
     "name": "stdout",
     "output_type": "stream",
     "text": [
      "File 'merged_df_abstract_preprocess_1.csv' loaded successfully.\n",
      "File 'merged_df_abstract_preprocess_2.csv' loaded successfully.\n",
      "File 'merged_df_abstract_preprocess_3.csv' loaded successfully.\n",
      "File 'merged_df_abstract_preprocess_4.csv' loaded successfully.\n",
      "File 'merged_df_abstract_preprocess_5.csv' loaded successfully.\n",
      "File 'merged_df_abstract_preprocess_6.csv' loaded successfully.\n",
      "File 'merged_df_abstract_preprocess_7.csv' loaded successfully.\n",
      "File 'merged_df_abstract_preprocess_8.csv' loaded successfully.\n",
      "File 'merged_df_abstract_preprocess_9.csv' loaded successfully.\n",
      "File 'merged_df_abstract_preprocess_10.csv' loaded successfully.\n",
      "File 'merged_df_abstract_preprocess_11.csv' loaded successfully.\n",
      "File 'merged_df_abstract_preprocess_12.csv' loaded successfully.\n",
      "File 'merged_df_abstract_preprocess_13.csv' loaded successfully.\n",
      "File 'merged_df_abstract_preprocess_14.csv' loaded successfully.\n",
      "File 'merged_df_abstract_preprocess_15.csv' loaded successfully.\n",
      "File 'merged_df_abstract_preprocess_16.csv' loaded successfully.\n",
      "File 'merged_df_abstract_preprocess_17.csv' loaded successfully.\n",
      "File 'merged_df_abstract_preprocess_18.csv' loaded successfully.\n",
      "File 'merged_df_abstract_preprocess_19.csv' loaded successfully.\n",
      "File 'merged_df_abstract_preprocess_20.csv' loaded successfully.\n",
      "File 'merged_df_abstract_preprocess_21.csv' loaded successfully.\n",
      "File 'merged_df_abstract_preprocess_22.csv' loaded successfully.\n",
      "File 'merged_df_abstract_preprocess_23.csv' loaded successfully.\n",
      "File 'merged_df_abstract_preprocess_24.csv' loaded successfully.\n",
      "File 'merged_df_abstract_preprocess_25.csv' loaded successfully.\n",
      "File 'merged_df_abstract_preprocess_26.csv' loaded successfully.\n",
      "File 'merged_df_abstract_preprocess_27.csv' loaded successfully.\n",
      "File 'merged_df_abstract_preprocess_28.csv' loaded successfully.\n",
      "File 'merged_df_abstract_preprocess_29.csv' loaded successfully.\n",
      "File 'merged_df_abstract_preprocess_30.csv' loaded successfully.\n",
      "File 'merged_df_abstract_preprocess_31.csv' loaded successfully.\n",
      "File 'merged_df_abstract_preprocess_32.csv' loaded successfully.\n",
      "All files merged and saved successfully as 'merged_df_abstract_preprocess_all.csv'.\n"
     ]
    }
   ],
   "source": [
    "import pandas as pd\n",
    "\n",
    "# Initialize an empty DataFrame to store all data\n",
    "merged_df = pd.DataFrame()\n",
    "\n",
    "# Loop through the 31 CSV files and append their data\n",
    "for i in range(1, 33):\n",
    "    file_name = f'merged_df_abstract_preprocess_{i}.csv'\n",
    "    try:\n",
    "        # Read each file and append to the merged DataFrame\n",
    "        temp_df = pd.read_csv(file_name)\n",
    "        merged_df = pd.concat([merged_df, temp_df], ignore_index=True)\n",
    "        print(f\"File '{file_name}' loaded successfully.\")\n",
    "    except FileNotFoundError:\n",
    "        print(f\"File '{file_name}' not found. Skipping.\")\n",
    "\n",
    "# Save the merged DataFrame to a single CSV file\n",
    "merged_df.to_csv('merged_df_abstract_preprocess_all.csv', index=False)\n",
    "\n",
    "print(\"All files merged and saved successfully as 'merged_df_abstract_preprocess_all.csv'.\")"
   ],
   "metadata": {
    "collapsed": false,
    "ExecuteTime": {
     "end_time": "2024-11-15T19:10:48.057134400Z",
     "start_time": "2024-11-15T19:10:34.944585500Z"
    }
   }
  },
  {
   "cell_type": "code",
   "execution_count": 2,
   "outputs": [
    {
     "name": "stdout",
     "output_type": "stream",
     "text": [
      "Index(['Title', 'Abstract', 'Disciplines', 'Keywords', 'Source',\n",
      "       'Disciplines_split', 'Astronomy', 'Biology', 'Chemistry',\n",
      "       'Computer Science', 'Economics', 'Education & instruction',\n",
      "       'Electrical Engineering', 'European & international law', 'History',\n",
      "       'Mathematics', 'Physics', 'Social Sciences', 'Statistics',\n",
      "       'processed_abstract'],\n",
      "      dtype='object')\n"
     ]
    },
    {
     "name": "stderr",
     "output_type": "stream",
     "text": [
      "C:\\Users\\cshch\\AppData\\Local\\Temp\\ipykernel_9316\\1140665813.py:1: DtypeWarning: Columns (3) have mixed types. Specify dtype option on import or set low_memory=False.\n",
      "  df_apl = pd.read_csv('merged_df_abstract_preprocess_all.csv')\n"
     ]
    }
   ],
   "source": [
    "df_apl = pd.read_csv('merged_df_abstract_preprocess_all.csv')\n",
    "print(df_apl.columns)"
   ],
   "metadata": {
    "collapsed": false,
    "ExecuteTime": {
     "end_time": "2024-11-15T19:23:20.835907100Z",
     "start_time": "2024-11-15T19:23:16.989070100Z"
    }
   }
  },
  {
   "cell_type": "code",
   "execution_count": 5,
   "outputs": [
    {
     "name": "stderr",
     "output_type": "stream",
     "text": [
      "C:\\Users\\cshch\\AppData\\Local\\Temp\\ipykernel_9316\\1107138412.py:5: DtypeWarning: Columns (3) have mixed types. Specify dtype option on import or set low_memory=False.\n",
      "  df_apl = pd.read_csv('merged_df_abstract_preprocess_all.csv')\n"
     ]
    },
    {
     "name": "stdout",
     "output_type": "stream",
     "text": [
      "                      Discipline  Total Articles  freq_>1000  freq_101-1000  \\\n",
      "0                      Astronomy           22628         636           1973   \n",
      "1                        Biology            1521           4            363   \n",
      "2                      Chemistry            1412           6            312   \n",
      "3               Computer Science          141950        2076           4142   \n",
      "4                      Economics            2707           9            526   \n",
      "5        Education & instruction             793           5            204   \n",
      "6         Electrical Engineering           21651         512           1999   \n",
      "7   European & international law             509           0             51   \n",
      "8                        History             587           0             57   \n",
      "9                    Mathematics           63444         802           2459   \n",
      "10                       Physics           87092        1533           3540   \n",
      "11               Social Sciences            1076           1            272   \n",
      "12                    Statistics            8241         164           1132   \n",
      "\n",
      "    freq_11-100  freq_<=10  \n",
      "0          4922      49995  \n",
      "1          2143       9008  \n",
      "2          1629       6937  \n",
      "3         10654      84035  \n",
      "4          2151       7992  \n",
      "5          1324       7073  \n",
      "6          4547      24462  \n",
      "7           789       4320  \n",
      "8           974       5904  \n",
      "9          6327      75713  \n",
      "10         9187      92468  \n",
      "11         1623       8191  \n",
      "12         2861      12640  \n"
     ]
    }
   ],
   "source": [
    "import pandas as pd\n",
    "from collections import Counter\n",
    "\n",
    "# Step 1: Load the dataset\n",
    "df_apl = pd.read_csv('merged_df_abstract_preprocess_all.csv')\n",
    "\n",
    "# Step 2: Define the specified discipline columns\n",
    "discipline_cols = [\n",
    "    'Astronomy', 'Biology', 'Chemistry', 'Computer Science', 'Economics',\n",
    "    'Education & instruction', 'Electrical Engineering',\n",
    "    'European & international law', 'History', 'Mathematics', 'Physics',\n",
    "    'Social Sciences', 'Statistics'\n",
    "]\n",
    "\n",
    "# Step 3: Initialize a list to store the results\n",
    "freq_distribution_results = []\n",
    "\n",
    "# Step 4: Loop through each discipline to calculate word frequencies\n",
    "for discipline in discipline_cols:\n",
    "    # Filter rows where the discipline is active (discipline value is 1)\n",
    "    discipline_rows = df_apl[df_apl[discipline] == 1]\n",
    "\n",
    "    # Count the total number of articles for the discipline\n",
    "    total_articles = len(discipline_rows)\n",
    "\n",
    "    # Concatenate all processed_abstract values for the discipline\n",
    "    all_words = ' '.join(discipline_rows['processed_abstract'].dropna()).split()\n",
    "\n",
    "    # Count word frequencies using Counter\n",
    "    word_count = Counter(all_words)\n",
    "\n",
    "    # Categorize frequencies\n",
    "    freq_1000 = sum(1 for count in word_count.values() if count > 1000)\n",
    "    freq_100 = sum(1 for count in word_count.values() if 100 < count <= 1000)\n",
    "    freq_10 = sum(1 for count in word_count.values() if 10 < count <= 100)\n",
    "    freq_below_10 = sum(1 for count in word_count.values() if count <= 10)\n",
    "\n",
    "    # Append results for the current discipline\n",
    "    freq_distribution_results.append({\n",
    "        'Discipline': discipline,\n",
    "        'Total Articles': total_articles,  # Add total number of articles for this discipline\n",
    "        'freq_>1000': freq_1000,\n",
    "        'freq_101-1000': freq_100,\n",
    "        'freq_11-100': freq_10,\n",
    "        'freq_<=10': freq_below_10\n",
    "    })\n",
    "\n",
    "# Step 5: Create a DataFrame from the results and save to CSV\n",
    "freq_distribution_df = pd.DataFrame(freq_distribution_results)\n",
    "freq_distribution_df.to_csv('discipline_word_frequency_distribution_with_totals.csv', index=False)\n",
    "\n",
    "# Step 6: Output the results to console\n",
    "print(freq_distribution_df)\n"
   ],
   "metadata": {
    "collapsed": false,
    "ExecuteTime": {
     "end_time": "2024-11-15T19:27:06.861976500Z",
     "start_time": "2024-11-15T19:26:58.545467400Z"
    }
   }
  },
  {
   "cell_type": "code",
   "execution_count": 6,
   "outputs": [
    {
     "name": "stderr",
     "output_type": "stream",
     "text": [
      "C:\\Users\\cshch\\AppData\\Local\\Temp\\ipykernel_9316\\1954611895.py:5: DtypeWarning: Columns (3) have mixed types. Specify dtype option on import or set low_memory=False.\n",
      "  df_apl = pd.read_csv('merged_df_abstract_preprocess_all.csv')\n"
     ]
    },
    {
     "ename": "AttributeError",
     "evalue": "'float' object has no attribute 'split'",
     "output_type": "error",
     "traceback": [
      "\u001B[1;31m---------------------------------------------------------------------------\u001B[0m",
      "\u001B[1;31mAttributeError\u001B[0m                            Traceback (most recent call last)",
      "Cell \u001B[1;32mIn[6], line 36\u001B[0m\n\u001B[0;32m     33\u001B[0m         \u001B[38;5;28;01mreturn\u001B[39;00m \u001B[38;5;124m'\u001B[39m\u001B[38;5;124m \u001B[39m\u001B[38;5;124m'\u001B[39m\u001B[38;5;241m.\u001B[39mjoin(filtered_words)\n\u001B[0;32m     35\u001B[0m     \u001B[38;5;66;03m# Create the new filtered_abstract column\u001B[39;00m\n\u001B[1;32m---> 36\u001B[0m     df_apl[\u001B[38;5;124mf\u001B[39m\u001B[38;5;124m'\u001B[39m\u001B[38;5;124mfiltered_abstract_\u001B[39m\u001B[38;5;132;01m{\u001B[39;00mdiscipline\u001B[38;5;132;01m}\u001B[39;00m\u001B[38;5;124m'\u001B[39m] \u001B[38;5;241m=\u001B[39m \u001B[43mdf_apl\u001B[49m\u001B[43m[\u001B[49m\u001B[38;5;124;43m'\u001B[39;49m\u001B[38;5;124;43mprocessed_abstract\u001B[39;49m\u001B[38;5;124;43m'\u001B[39;49m\u001B[43m]\u001B[49m\u001B[38;5;241;43m.\u001B[39;49m\u001B[43mapply\u001B[49m\u001B[43m(\u001B[49m\u001B[43mfilter_abstract\u001B[49m\u001B[43m)\u001B[49m\n\u001B[0;32m     38\u001B[0m \u001B[38;5;66;03m# Step 4: Save the new DataFrame with the filtered_abstract columns to a CSV file\u001B[39;00m\n\u001B[0;32m     39\u001B[0m df_apl\u001B[38;5;241m.\u001B[39mto_csv(\u001B[38;5;124m'\u001B[39m\u001B[38;5;124mmerged_df_abstract_filtered.csv\u001B[39m\u001B[38;5;124m'\u001B[39m, index\u001B[38;5;241m=\u001B[39m\u001B[38;5;28;01mFalse\u001B[39;00m)\n",
      "File \u001B[1;32mD:\\软件\\Python\\Lib\\site-packages\\pandas\\core\\series.py:4924\u001B[0m, in \u001B[0;36mSeries.apply\u001B[1;34m(self, func, convert_dtype, args, by_row, **kwargs)\u001B[0m\n\u001B[0;32m   4789\u001B[0m \u001B[38;5;28;01mdef\u001B[39;00m \u001B[38;5;21mapply\u001B[39m(\n\u001B[0;32m   4790\u001B[0m     \u001B[38;5;28mself\u001B[39m,\n\u001B[0;32m   4791\u001B[0m     func: AggFuncType,\n\u001B[1;32m   (...)\u001B[0m\n\u001B[0;32m   4796\u001B[0m     \u001B[38;5;241m*\u001B[39m\u001B[38;5;241m*\u001B[39mkwargs,\n\u001B[0;32m   4797\u001B[0m ) \u001B[38;5;241m-\u001B[39m\u001B[38;5;241m>\u001B[39m DataFrame \u001B[38;5;241m|\u001B[39m Series:\n\u001B[0;32m   4798\u001B[0m \u001B[38;5;250m    \u001B[39m\u001B[38;5;124;03m\"\"\"\u001B[39;00m\n\u001B[0;32m   4799\u001B[0m \u001B[38;5;124;03m    Invoke function on values of Series.\u001B[39;00m\n\u001B[0;32m   4800\u001B[0m \n\u001B[1;32m   (...)\u001B[0m\n\u001B[0;32m   4915\u001B[0m \u001B[38;5;124;03m    dtype: float64\u001B[39;00m\n\u001B[0;32m   4916\u001B[0m \u001B[38;5;124;03m    \"\"\"\u001B[39;00m\n\u001B[0;32m   4917\u001B[0m     \u001B[38;5;28;01mreturn\u001B[39;00m \u001B[43mSeriesApply\u001B[49m\u001B[43m(\u001B[49m\n\u001B[0;32m   4918\u001B[0m \u001B[43m        \u001B[49m\u001B[38;5;28;43mself\u001B[39;49m\u001B[43m,\u001B[49m\n\u001B[0;32m   4919\u001B[0m \u001B[43m        \u001B[49m\u001B[43mfunc\u001B[49m\u001B[43m,\u001B[49m\n\u001B[0;32m   4920\u001B[0m \u001B[43m        \u001B[49m\u001B[43mconvert_dtype\u001B[49m\u001B[38;5;241;43m=\u001B[39;49m\u001B[43mconvert_dtype\u001B[49m\u001B[43m,\u001B[49m\n\u001B[0;32m   4921\u001B[0m \u001B[43m        \u001B[49m\u001B[43mby_row\u001B[49m\u001B[38;5;241;43m=\u001B[39;49m\u001B[43mby_row\u001B[49m\u001B[43m,\u001B[49m\n\u001B[0;32m   4922\u001B[0m \u001B[43m        \u001B[49m\u001B[43margs\u001B[49m\u001B[38;5;241;43m=\u001B[39;49m\u001B[43margs\u001B[49m\u001B[43m,\u001B[49m\n\u001B[0;32m   4923\u001B[0m \u001B[43m        \u001B[49m\u001B[43mkwargs\u001B[49m\u001B[38;5;241;43m=\u001B[39;49m\u001B[43mkwargs\u001B[49m\u001B[43m,\u001B[49m\n\u001B[1;32m-> 4924\u001B[0m \u001B[43m    \u001B[49m\u001B[43m)\u001B[49m\u001B[38;5;241;43m.\u001B[39;49m\u001B[43mapply\u001B[49m\u001B[43m(\u001B[49m\u001B[43m)\u001B[49m\n",
      "File \u001B[1;32mD:\\软件\\Python\\Lib\\site-packages\\pandas\\core\\apply.py:1427\u001B[0m, in \u001B[0;36mSeriesApply.apply\u001B[1;34m(self)\u001B[0m\n\u001B[0;32m   1424\u001B[0m     \u001B[38;5;28;01mreturn\u001B[39;00m \u001B[38;5;28mself\u001B[39m\u001B[38;5;241m.\u001B[39mapply_compat()\n\u001B[0;32m   1426\u001B[0m \u001B[38;5;66;03m# self.func is Callable\u001B[39;00m\n\u001B[1;32m-> 1427\u001B[0m \u001B[38;5;28;01mreturn\u001B[39;00m \u001B[38;5;28;43mself\u001B[39;49m\u001B[38;5;241;43m.\u001B[39;49m\u001B[43mapply_standard\u001B[49m\u001B[43m(\u001B[49m\u001B[43m)\u001B[49m\n",
      "File \u001B[1;32mD:\\软件\\Python\\Lib\\site-packages\\pandas\\core\\apply.py:1507\u001B[0m, in \u001B[0;36mSeriesApply.apply_standard\u001B[1;34m(self)\u001B[0m\n\u001B[0;32m   1501\u001B[0m \u001B[38;5;66;03m# row-wise access\u001B[39;00m\n\u001B[0;32m   1502\u001B[0m \u001B[38;5;66;03m# apply doesn't have a `na_action` keyword and for backward compat reasons\u001B[39;00m\n\u001B[0;32m   1503\u001B[0m \u001B[38;5;66;03m# we need to give `na_action=\"ignore\"` for categorical data.\u001B[39;00m\n\u001B[0;32m   1504\u001B[0m \u001B[38;5;66;03m# TODO: remove the `na_action=\"ignore\"` when that default has been changed in\u001B[39;00m\n\u001B[0;32m   1505\u001B[0m \u001B[38;5;66;03m#  Categorical (GH51645).\u001B[39;00m\n\u001B[0;32m   1506\u001B[0m action \u001B[38;5;241m=\u001B[39m \u001B[38;5;124m\"\u001B[39m\u001B[38;5;124mignore\u001B[39m\u001B[38;5;124m\"\u001B[39m \u001B[38;5;28;01mif\u001B[39;00m \u001B[38;5;28misinstance\u001B[39m(obj\u001B[38;5;241m.\u001B[39mdtype, CategoricalDtype) \u001B[38;5;28;01melse\u001B[39;00m \u001B[38;5;28;01mNone\u001B[39;00m\n\u001B[1;32m-> 1507\u001B[0m mapped \u001B[38;5;241m=\u001B[39m \u001B[43mobj\u001B[49m\u001B[38;5;241;43m.\u001B[39;49m\u001B[43m_map_values\u001B[49m\u001B[43m(\u001B[49m\n\u001B[0;32m   1508\u001B[0m \u001B[43m    \u001B[49m\u001B[43mmapper\u001B[49m\u001B[38;5;241;43m=\u001B[39;49m\u001B[43mcurried\u001B[49m\u001B[43m,\u001B[49m\u001B[43m \u001B[49m\u001B[43mna_action\u001B[49m\u001B[38;5;241;43m=\u001B[39;49m\u001B[43maction\u001B[49m\u001B[43m,\u001B[49m\u001B[43m \u001B[49m\u001B[43mconvert\u001B[49m\u001B[38;5;241;43m=\u001B[39;49m\u001B[38;5;28;43mself\u001B[39;49m\u001B[38;5;241;43m.\u001B[39;49m\u001B[43mconvert_dtype\u001B[49m\n\u001B[0;32m   1509\u001B[0m \u001B[43m\u001B[49m\u001B[43m)\u001B[49m\n\u001B[0;32m   1511\u001B[0m \u001B[38;5;28;01mif\u001B[39;00m \u001B[38;5;28mlen\u001B[39m(mapped) \u001B[38;5;129;01mand\u001B[39;00m \u001B[38;5;28misinstance\u001B[39m(mapped[\u001B[38;5;241m0\u001B[39m], ABCSeries):\n\u001B[0;32m   1512\u001B[0m     \u001B[38;5;66;03m# GH#43986 Need to do list(mapped) in order to get treated as nested\u001B[39;00m\n\u001B[0;32m   1513\u001B[0m     \u001B[38;5;66;03m#  See also GH#25959 regarding EA support\u001B[39;00m\n\u001B[0;32m   1514\u001B[0m     \u001B[38;5;28;01mreturn\u001B[39;00m obj\u001B[38;5;241m.\u001B[39m_constructor_expanddim(\u001B[38;5;28mlist\u001B[39m(mapped), index\u001B[38;5;241m=\u001B[39mobj\u001B[38;5;241m.\u001B[39mindex)\n",
      "File \u001B[1;32mD:\\软件\\Python\\Lib\\site-packages\\pandas\\core\\base.py:921\u001B[0m, in \u001B[0;36mIndexOpsMixin._map_values\u001B[1;34m(self, mapper, na_action, convert)\u001B[0m\n\u001B[0;32m    918\u001B[0m \u001B[38;5;28;01mif\u001B[39;00m \u001B[38;5;28misinstance\u001B[39m(arr, ExtensionArray):\n\u001B[0;32m    919\u001B[0m     \u001B[38;5;28;01mreturn\u001B[39;00m arr\u001B[38;5;241m.\u001B[39mmap(mapper, na_action\u001B[38;5;241m=\u001B[39mna_action)\n\u001B[1;32m--> 921\u001B[0m \u001B[38;5;28;01mreturn\u001B[39;00m \u001B[43malgorithms\u001B[49m\u001B[38;5;241;43m.\u001B[39;49m\u001B[43mmap_array\u001B[49m\u001B[43m(\u001B[49m\u001B[43marr\u001B[49m\u001B[43m,\u001B[49m\u001B[43m \u001B[49m\u001B[43mmapper\u001B[49m\u001B[43m,\u001B[49m\u001B[43m \u001B[49m\u001B[43mna_action\u001B[49m\u001B[38;5;241;43m=\u001B[39;49m\u001B[43mna_action\u001B[49m\u001B[43m,\u001B[49m\u001B[43m \u001B[49m\u001B[43mconvert\u001B[49m\u001B[38;5;241;43m=\u001B[39;49m\u001B[43mconvert\u001B[49m\u001B[43m)\u001B[49m\n",
      "File \u001B[1;32mD:\\软件\\Python\\Lib\\site-packages\\pandas\\core\\algorithms.py:1743\u001B[0m, in \u001B[0;36mmap_array\u001B[1;34m(arr, mapper, na_action, convert)\u001B[0m\n\u001B[0;32m   1741\u001B[0m values \u001B[38;5;241m=\u001B[39m arr\u001B[38;5;241m.\u001B[39mastype(\u001B[38;5;28mobject\u001B[39m, copy\u001B[38;5;241m=\u001B[39m\u001B[38;5;28;01mFalse\u001B[39;00m)\n\u001B[0;32m   1742\u001B[0m \u001B[38;5;28;01mif\u001B[39;00m na_action \u001B[38;5;129;01mis\u001B[39;00m \u001B[38;5;28;01mNone\u001B[39;00m:\n\u001B[1;32m-> 1743\u001B[0m     \u001B[38;5;28;01mreturn\u001B[39;00m \u001B[43mlib\u001B[49m\u001B[38;5;241;43m.\u001B[39;49m\u001B[43mmap_infer\u001B[49m\u001B[43m(\u001B[49m\u001B[43mvalues\u001B[49m\u001B[43m,\u001B[49m\u001B[43m \u001B[49m\u001B[43mmapper\u001B[49m\u001B[43m,\u001B[49m\u001B[43m \u001B[49m\u001B[43mconvert\u001B[49m\u001B[38;5;241;43m=\u001B[39;49m\u001B[43mconvert\u001B[49m\u001B[43m)\u001B[49m\n\u001B[0;32m   1744\u001B[0m \u001B[38;5;28;01melse\u001B[39;00m:\n\u001B[0;32m   1745\u001B[0m     \u001B[38;5;28;01mreturn\u001B[39;00m lib\u001B[38;5;241m.\u001B[39mmap_infer_mask(\n\u001B[0;32m   1746\u001B[0m         values, mapper, mask\u001B[38;5;241m=\u001B[39misna(values)\u001B[38;5;241m.\u001B[39mview(np\u001B[38;5;241m.\u001B[39muint8), convert\u001B[38;5;241m=\u001B[39mconvert\n\u001B[0;32m   1747\u001B[0m     )\n",
      "File \u001B[1;32mlib.pyx:2972\u001B[0m, in \u001B[0;36mpandas._libs.lib.map_infer\u001B[1;34m()\u001B[0m\n",
      "Cell \u001B[1;32mIn[6], line 31\u001B[0m, in \u001B[0;36mfilter_abstract\u001B[1;34m(text)\u001B[0m\n\u001B[0;32m     30\u001B[0m \u001B[38;5;28;01mdef\u001B[39;00m \u001B[38;5;21mfilter_abstract\u001B[39m(text):\n\u001B[1;32m---> 31\u001B[0m     words \u001B[38;5;241m=\u001B[39m \u001B[43mtext\u001B[49m\u001B[38;5;241;43m.\u001B[39;49m\u001B[43msplit\u001B[49m()\n\u001B[0;32m     32\u001B[0m     filtered_words \u001B[38;5;241m=\u001B[39m [word \u001B[38;5;28;01mfor\u001B[39;00m word \u001B[38;5;129;01min\u001B[39;00m words \u001B[38;5;28;01mif\u001B[39;00m word \u001B[38;5;129;01min\u001B[39;00m valid_words]\n\u001B[0;32m     33\u001B[0m     \u001B[38;5;28;01mreturn\u001B[39;00m \u001B[38;5;124m'\u001B[39m\u001B[38;5;124m \u001B[39m\u001B[38;5;124m'\u001B[39m\u001B[38;5;241m.\u001B[39mjoin(filtered_words)\n",
      "\u001B[1;31mAttributeError\u001B[0m: 'float' object has no attribute 'split'"
     ]
    }
   ],
   "source": [
    "# Filter the frequenct words\n",
    "# import pandas as pd\n",
    "# from collections import Counter\n",
    "#\n",
    "# # Step 1: Load the dataset\n",
    "# df_apl = pd.read_csv('merged_df_abstract_preprocess_all.csv')\n",
    "#\n",
    "# # Step 2: Define the specified discipline columns\n",
    "# discipline_cols = [\n",
    "#     'Astronomy', 'Biology', 'Chemistry', 'Computer Science', 'Economics',\n",
    "#     'Education & instruction', 'Electrical Engineering',\n",
    "#     'European & international law', 'History', 'Mathematics', 'Physics',\n",
    "#     'Social Sciences', 'Statistics'\n",
    "# ]\n",
    "#\n",
    "# # Step 3: Loop through each discipline to filter out low frequency words\n",
    "# for discipline in discipline_cols:\n",
    "#     # Filter rows where the discipline is active (discipline value is 1)\n",
    "#     discipline_rows = df_apl[df_apl[discipline] == 1]\n",
    "#\n",
    "#     # Concatenate all processed_abstract values for the discipline\n",
    "#     all_words = ' '.join(discipline_rows['processed_abstract'].dropna()).split()\n",
    "#\n",
    "#     # Count word frequencies using Counter\n",
    "#     word_count = Counter(all_words)\n",
    "#\n",
    "#     # Get the set of words that have frequency > 10\n",
    "#     valid_words = {word for word, count in word_count.items() if count > 10}\n",
    "#\n",
    "#     # Create a function to filter words in the processed_abstract column\n",
    "#     def filter_abstract(text):\n",
    "#         words = text.split()\n",
    "#         filtered_words = [word for word in words if word in valid_words]\n",
    "#         return ' '.join(filtered_words)\n",
    "#\n",
    "#     # Create the new filtered_abstract column\n",
    "#     df_apl[f'filtered_abstract_{discipline}'] = df_apl['processed_abstract'].apply(filter_abstract)\n",
    "#\n",
    "# # Step 4: Save the new DataFrame with the filtered_abstract columns to a CSV file\n",
    "# df_apl.to_csv('merged_df_abstract_filtered.csv', index=False)\n",
    "#\n",
    "# # Step 5: Output message indicating success\n",
    "# print(\"Filtered abstracts created and saved successfully.\")\n"
   ],
   "metadata": {
    "collapsed": false,
    "ExecuteTime": {
     "end_time": "2024-11-15T19:31:37.123448900Z",
     "start_time": "2024-11-15T19:31:31.667937400Z"
    }
   }
  },
  {
   "cell_type": "code",
   "execution_count": 8,
   "outputs": [],
   "source": [
    "# remove the unnecessary columns\n",
    "columns = ['processed_abstract'] + [col for col in df_apl.columns if col != 'processed_abstract']\n",
    "columns_to_drop = ['Title', 'Abstract', 'Disciplines', 'Keywords', 'Source', 'Disciplines_split']\n",
    "df_merged_processed = df_apl[columns].drop(columns=columns_to_drop, errors='ignore')\n",
    "\n",
    "df_merged_processed.to_csv('merged_df_processed.csv', index=False)"
   ],
   "metadata": {
    "collapsed": false,
    "ExecuteTime": {
     "end_time": "2024-11-16T09:42:00.073730Z",
     "start_time": "2024-11-16T09:41:57.310058800Z"
    }
   }
  },
  {
   "cell_type": "code",
   "execution_count": 11,
   "outputs": [
    {
     "name": "stdout",
     "output_type": "stream",
     "text": [
      "                                  processed_abstract  Astronomy  Biology  \\\n",
      "0  remarkable representation generalized operator...          0        0   \n",
      "1  polynomial skew product map form f(z w = p(z q...          0        0   \n",
      "2  define series associate toric analytically irr...          0        0   \n",
      "3  radial polynomial system orthogonal polynomial...          0        0   \n",
      "4  find field oscillation matter proper time prop...          0        0   \n",
      "\n",
      "   Chemistry  Computer Science  Economics  Education & instruction  \\\n",
      "0          0                 0          0                        0   \n",
      "1          0                 0          0                        0   \n",
      "2          0                 0          0                        0   \n",
      "3          0                 0          0                        0   \n",
      "4          0                 0          0                        0   \n",
      "\n",
      "   Electrical Engineering  European & international law  History  Mathematics  \\\n",
      "0                       0                             0        0            0   \n",
      "1                       0                             0        0            1   \n",
      "2                       0                             0        0            1   \n",
      "3                       0                             0        0            1   \n",
      "4                       0                             0        0            0   \n",
      "\n",
      "   Physics  Social Sciences  Statistics  \n",
      "0        1                0           0  \n",
      "1        0                0           0  \n",
      "2        0                0           0  \n",
      "3        0                0           0  \n",
      "4        1                0           0  \n"
     ]
    }
   ],
   "source": [
    "print(df_merged_processed.head())"
   ],
   "metadata": {
    "collapsed": false,
    "ExecuteTime": {
     "end_time": "2024-11-16T09:57:35.019509300Z",
     "start_time": "2024-11-16T09:57:35.012220100Z"
    }
   }
  }
 ]
}
