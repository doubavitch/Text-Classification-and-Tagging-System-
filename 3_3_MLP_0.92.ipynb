{
 "cells": [
  {
   "cell_type": "code",
   "execution_count": 2,
   "metadata": {
    "collapsed": true,
    "ExecuteTime": {
     "end_time": "2024-11-26T13:27:37.506538500Z",
     "start_time": "2024-11-26T13:27:33.781471500Z"
    }
   },
   "outputs": [
    {
     "name": "stderr",
     "output_type": "stream",
     "text": [
      "C:\\Users\\cshch\\AppData\\Local\\Temp\\ipykernel_6388\\2488393254.py:3: DtypeWarning: Columns (3) have mixed types. Specify dtype option on import or set low_memory=False.\n",
      "  df = pd.read_csv('merged_df_abstract_preprocess_all.csv')\n"
     ]
    }
   ],
   "source": [
    "import  pandas as pd\n",
    "import numpy as np\n",
    "df = pd.read_csv('merged_df_abstract_preprocess_all.csv')\n",
    "df = df.dropna(subset=['processed_abstract'])"
   ]
  },
  {
   "cell_type": "code",
   "execution_count": 4,
   "outputs": [
    {
     "name": "stdout",
     "output_type": "stream",
     "text": [
      "(311557, 20)\n",
      "Index(['Title', 'Abstract', 'Disciplines', 'Keywords', 'Source',\n",
      "       'Disciplines_split', 'Astronomy', 'Biology', 'Chemistry',\n",
      "       'Computer Science', 'Economics', 'Education & instruction',\n",
      "       'Electrical Engineering', 'European & international law', 'History',\n",
      "       'Mathematics', 'Physics', 'Social Sciences', 'Statistics',\n",
      "       'processed_abstract'],\n",
      "      dtype='object')\n"
     ]
    }
   ],
   "source": [
    "print(df.shape)\n",
    "print(df.columns)"
   ],
   "metadata": {
    "collapsed": false,
    "ExecuteTime": {
     "end_time": "2024-11-20T09:05:28.556801400Z",
     "start_time": "2024-11-20T09:05:28.550334200Z"
    }
   }
  },
  {
   "cell_type": "code",
   "execution_count": 8,
   "outputs": [
    {
     "name": "stdout",
     "output_type": "stream",
     "text": [
      "Requirement already satisfied: scikit-learn in c:\\users\\cshch\\appdata\\roaming\\python\\python311\\site-packages (1.5.2)\n",
      "Requirement already satisfied: imbalanced-learn in d:\\软件\\python\\lib\\site-packages (0.12.2)\n",
      "Collecting imbalanced-learn\n",
      "  Downloading imbalanced_learn-0.12.4-py3-none-any.whl.metadata (8.3 kB)\n",
      "Requirement already satisfied: numpy>=1.19.5 in d:\\软件\\python\\lib\\site-packages (from scikit-learn) (1.26.4)\n",
      "Requirement already satisfied: scipy>=1.6.0 in d:\\软件\\python\\lib\\site-packages (from scikit-learn) (1.14.1)\n",
      "Requirement already satisfied: joblib>=1.2.0 in d:\\软件\\python\\lib\\site-packages (from scikit-learn) (1.3.2)\n",
      "Requirement already satisfied: threadpoolctl>=3.1.0 in d:\\软件\\python\\lib\\site-packages (from scikit-learn) (3.2.0)\n",
      "Downloading imbalanced_learn-0.12.4-py3-none-any.whl (258 kB)\n",
      "Installing collected packages: imbalanced-learn\n",
      "  Attempting uninstall: imbalanced-learn\n",
      "    Found existing installation: imbalanced-learn 0.12.2\n",
      "    Uninstalling imbalanced-learn-0.12.2:\n",
      "      Successfully uninstalled imbalanced-learn-0.12.2\n",
      "Successfully installed imbalanced-learn-0.12.4\n"
     ]
    }
   ],
   "source": [
    "# !pip install --upgrade scikit-learn imbalanced-learn"
   ],
   "metadata": {
    "collapsed": false,
    "ExecuteTime": {
     "end_time": "2024-11-20T09:06:21.264213800Z",
     "start_time": "2024-11-20T09:06:19.377828300Z"
    }
   }
  },
  {
   "cell_type": "code",
   "execution_count": 3,
   "outputs": [
    {
     "name": "stdout",
     "output_type": "stream",
     "text": [
      "Disciplines_merged\n",
      "Computer Science          133914\n",
      "Physics                    96677\n",
      "Mathematics                68196\n",
      "Social Sciences             5666\n",
      "Electrical Engineering      5583\n",
      "Biology                     1521\n",
      "Name: count, dtype: int64\n"
     ]
    }
   ],
   "source": [
    "discipline_mapping = {\n",
    "    \"Astronomy\": \"Physics\",\n",
    "    \"Astronomy/Physics\": \"Physics\",\n",
    "    \"Biology\": \"Biology\",\n",
    "    \"Chemistry/Physics\": \"Physics\",\n",
    "    \"Computer Science\": \"Computer Science\",\n",
    "    \"Computer Science/Electrical Engineering\": \"Computer Science\",\n",
    "    \"Computer Science/Mathematics\": \"Mathematics\",\n",
    "    \"Computer Science/Statistics\": \"Mathematics\",\n",
    "    \"Economics\": \"Social Sciences\",\n",
    "    \"Education & instruction\": \"Social Sciences\",\n",
    "    \"Electrical Engineering\": \"Electrical Engineering\",\n",
    "    \"European & international law\": \"Social Sciences\",\n",
    "    \"History\": \"Social Sciences\",\n",
    "    \"Mathematics\": \"Mathematics\",\n",
    "    \"Mathematics/Physics\": \"Physics\",\n",
    "    \"Mathematics/Statistics\": \"Mathematics\",\n",
    "    \"Physics\": \"Physics\",\n",
    "    \"Social Sciences\": \"Social Sciences\",\n",
    "    \"Statistics\": \"Mathematics\",\n",
    "    \"Computer Science/Electrical Engineering/Mathematics\": \"Mathematics\"\n",
    "}\n",
    "# Apply the discipline mapping to the 'Disciplines' column in the DataFrame\n",
    "df['Disciplines_merged'] = df['Disciplines'].map(discipline_mapping)\n",
    "\n",
    "# Check the changes\n",
    "print(df['Disciplines_merged'].value_counts())"
   ],
   "metadata": {
    "collapsed": false,
    "ExecuteTime": {
     "end_time": "2024-11-26T13:27:52.396385400Z",
     "start_time": "2024-11-26T13:27:52.363706400Z"
    }
   }
  },
  {
   "cell_type": "code",
   "execution_count": 5,
   "outputs": [
    {
     "name": "stdout",
     "output_type": "stream",
     "text": [
      "Training set size: (249245, 106847)\n",
      "Test set size: (62312, 106847)\n"
     ]
    }
   ],
   "source": [
    "import pandas as pd\n",
    "from sklearn.feature_extraction.text import TfidfVectorizer\n",
    "from sklearn.model_selection import train_test_split\n",
    "\n",
    "# Vectorize the Text Data using TF-IDF\n",
    "vectorizer_Logistic_MultiDiscipline = TfidfVectorizer()\n",
    "X = vectorizer_Logistic_MultiDiscipline.fit_transform(df['processed_abstract'])\n",
    "y = df['Disciplines_merged']\n",
    "\n",
    "# Split the data into training and testing sets (without oversampling)\n",
    "X_train, X_test, y_train, y_test = train_test_split(X, y, test_size=0.2, random_state=42)\n",
    "\n",
    "print(\"Training set size:\", X_train.shape)\n",
    "print(\"Test set size:\", X_test.shape)"
   ],
   "metadata": {
    "collapsed": false,
    "ExecuteTime": {
     "end_time": "2024-11-26T13:28:42.102094100Z",
     "start_time": "2024-11-26T13:28:28.971881700Z"
    }
   }
  },
  {
   "cell_type": "code",
   "execution_count": 6,
   "outputs": [
    {
     "name": "stderr",
     "output_type": "stream",
     "text": [
      "C:\\Users\\cshch\\AppData\\Roaming\\Python\\Python311\\site-packages\\sklearn\\neural_network\\_multilayer_perceptron.py:697: UserWarning: Training interrupted by user.\n",
      "  warnings.warn(\"Training interrupted by user.\")\n"
     ]
    },
    {
     "name": "stdout",
     "output_type": "stream",
     "text": [
      "Accuracy: 0.9204808062652459\n",
      "Classification Report:\n",
      "                         precision    recall  f1-score   support\n",
      "\n",
      "               Biology       0.85      0.73      0.79       292\n",
      "      Computer Science       0.94      0.94      0.94     26884\n",
      "Electrical Engineering       0.47      0.46      0.46      1079\n",
      "           Mathematics       0.88      0.88      0.88     13638\n",
      "               Physics       0.96      0.96      0.96     19229\n",
      "       Social Sciences       0.78      0.75      0.76      1190\n",
      "\n",
      "              accuracy                           0.92     62312\n",
      "             macro avg       0.81      0.79      0.80     62312\n",
      "          weighted avg       0.92      0.92      0.92     62312\n",
      "\n"
     ]
    }
   ],
   "source": [
    "# 2 MLP\n",
    "from sklearn.neural_network import MLPClassifier\n",
    "from sklearn.metrics import accuracy_score, classification_report\n",
    "\n",
    "# Initialize the MLPClassifier with desired parameters\n",
    "model_MLP = MLPClassifier(hidden_layer_sizes=(100,), max_iter=1000, activation='relu', solver='adam')\n",
    "\n",
    "# Train the model on the training data (no oversampling, just the original split)\n",
    "model_MLP.fit(X_train, y_train)\n",
    "\n",
    "# Make predictions on the test data\n",
    "y_pred = model_MLP.predict(X_test)\n",
    "\n",
    "# Evaluate the model's performance\n",
    "print(\"Accuracy:\", accuracy_score(y_test, y_pred))\n",
    "print(\"Classification Report:\\n\", classification_report(y_test, y_pred))\n"
   ],
   "metadata": {
    "collapsed": false,
    "ExecuteTime": {
     "end_time": "2024-11-26T17:26:31.642567200Z",
     "start_time": "2024-11-26T13:28:53.138577700Z"
    }
   }
  },
  {
   "cell_type": "code",
   "execution_count": 7,
   "outputs": [
    {
     "data": {
      "text/plain": "['model\\\\Model_MLP.joblib']"
     },
     "execution_count": 7,
     "metadata": {},
     "output_type": "execute_result"
    }
   ],
   "source": [
    "# Save model\n",
    "import joblib\n",
    "import os\n",
    "\n",
    "# Define the directory to save the model\n",
    "save_dir = 'model'\n",
    "os.makedirs(save_dir, exist_ok=True)\n",
    "\n",
    "# Save the MLP model\n",
    "model_file_path = os.path.join(save_dir, 'Model_MLP.joblib')\n",
    "joblib.dump(model_MLP, model_file_path)\n",
    "\n",
    "# Load the model back\n",
    "# loaded_model = joblib.load(model_file_path)\n",
    "# print(\"Model successfully loaded:\", loaded_model)\n"
   ],
   "metadata": {
    "collapsed": false,
    "ExecuteTime": {
     "end_time": "2024-11-26T17:26:43.139842800Z",
     "start_time": "2024-11-26T17:26:43.019771300Z"
    }
   }
  },
  {
   "cell_type": "code",
   "execution_count": 15,
   "outputs": [],
   "source": [
    "import pandas as pd\n",
    "\n",
    "n_top_keywords = 100\n",
    "feature_names = vectorizer_Logistic_MultiDiscipline.get_feature_names_out()\n",
    "\n",
    "keywords_dict = {}\n",
    "\n",
    "for i, label in enumerate(model_Logistic_MultiDiscipline_oversampling.classes_):\n",
    "    coef = model_Logistic_MultiDiscipline_oversampling.coef_[i]\n",
    "    top_keywords_idx = coef.argsort()[-n_top_keywords:][::-1]\n",
    "\n",
    "    top_keywords = [(feature_names[idx], coef[idx]) for idx in top_keywords_idx]\n",
    "    keywords_dict[label] = top_keywords\n",
    "\n",
    "keywords_df = pd.DataFrame.from_dict(keywords_dict, orient='index')\n",
    "keywords_df.to_csv(\"keywords_from_model/2_keywords_Logistic_oversampling.csv\")\n"
   ],
   "metadata": {
    "collapsed": false,
    "ExecuteTime": {
     "end_time": "2024-11-16T12:18:13.746223300Z",
     "start_time": "2024-11-16T12:18:13.657160100Z"
    }
   }
  }
 ],
 "metadata": {
  "kernelspec": {
   "display_name": "Python 3",
   "language": "python",
   "name": "python3"
  },
  "language_info": {
   "codemirror_mode": {
    "name": "ipython",
    "version": 2
   },
   "file_extension": ".py",
   "mimetype": "text/x-python",
   "name": "python",
   "nbconvert_exporter": "python",
   "pygments_lexer": "ipython2",
   "version": "2.7.6"
  }
 },
 "nbformat": 4,
 "nbformat_minor": 0
}
