{
 "cells": [
  {
   "cell_type": "code",
   "execution_count": 2,
   "metadata": {
    "collapsed": true,
    "ExecuteTime": {
     "end_time": "2024-11-20T12:18:57.061751Z",
     "start_time": "2024-11-20T12:18:52.951573200Z"
    }
   },
   "outputs": [
    {
     "name": "stderr",
     "output_type": "stream",
     "text": [
      "C:\\Users\\cshch\\AppData\\Local\\Temp\\ipykernel_22496\\2488393254.py:3: DtypeWarning: Columns (3) have mixed types. Specify dtype option on import or set low_memory=False.\n",
      "  df = pd.read_csv('merged_df_abstract_preprocess_all.csv')\n"
     ]
    }
   ],
   "source": [
    "import  pandas as pd\n",
    "import numpy as np\n",
    "df = pd.read_csv('merged_df_abstract_preprocess_all.csv')\n",
    "df = df.dropna(subset=['processed_abstract'])"
   ]
  },
  {
   "cell_type": "code",
   "execution_count": 4,
   "outputs": [
    {
     "name": "stdout",
     "output_type": "stream",
     "text": [
      "(311557, 20)\n",
      "Index(['Title', 'Abstract', 'Disciplines', 'Keywords', 'Source',\n",
      "       'Disciplines_split', 'Astronomy', 'Biology', 'Chemistry',\n",
      "       'Computer Science', 'Economics', 'Education & instruction',\n",
      "       'Electrical Engineering', 'European & international law', 'History',\n",
      "       'Mathematics', 'Physics', 'Social Sciences', 'Statistics',\n",
      "       'processed_abstract'],\n",
      "      dtype='object')\n"
     ]
    }
   ],
   "source": [
    "print(df.shape)\n",
    "print(df.columns)"
   ],
   "metadata": {
    "collapsed": false,
    "ExecuteTime": {
     "end_time": "2024-11-20T09:05:28.556801400Z",
     "start_time": "2024-11-20T09:05:28.550334200Z"
    }
   }
  },
  {
   "cell_type": "code",
   "execution_count": 8,
   "outputs": [
    {
     "name": "stdout",
     "output_type": "stream",
     "text": [
      "Requirement already satisfied: scikit-learn in c:\\users\\cshch\\appdata\\roaming\\python\\python311\\site-packages (1.5.2)\n",
      "Requirement already satisfied: imbalanced-learn in d:\\软件\\python\\lib\\site-packages (0.12.2)\n",
      "Collecting imbalanced-learn\n",
      "  Downloading imbalanced_learn-0.12.4-py3-none-any.whl.metadata (8.3 kB)\n",
      "Requirement already satisfied: numpy>=1.19.5 in d:\\软件\\python\\lib\\site-packages (from scikit-learn) (1.26.4)\n",
      "Requirement already satisfied: scipy>=1.6.0 in d:\\软件\\python\\lib\\site-packages (from scikit-learn) (1.14.1)\n",
      "Requirement already satisfied: joblib>=1.2.0 in d:\\软件\\python\\lib\\site-packages (from scikit-learn) (1.3.2)\n",
      "Requirement already satisfied: threadpoolctl>=3.1.0 in d:\\软件\\python\\lib\\site-packages (from scikit-learn) (3.2.0)\n",
      "Downloading imbalanced_learn-0.12.4-py3-none-any.whl (258 kB)\n",
      "Installing collected packages: imbalanced-learn\n",
      "  Attempting uninstall: imbalanced-learn\n",
      "    Found existing installation: imbalanced-learn 0.12.2\n",
      "    Uninstalling imbalanced-learn-0.12.2:\n",
      "      Successfully uninstalled imbalanced-learn-0.12.2\n",
      "Successfully installed imbalanced-learn-0.12.4\n"
     ]
    }
   ],
   "source": [
    "# !pip install --upgrade scikit-learn imbalanced-learn"
   ],
   "metadata": {
    "collapsed": false,
    "ExecuteTime": {
     "end_time": "2024-11-20T09:06:21.264213800Z",
     "start_time": "2024-11-20T09:06:19.377828300Z"
    }
   }
  },
  {
   "cell_type": "code",
   "execution_count": 4,
   "outputs": [
    {
     "name": "stdout",
     "output_type": "stream",
     "text": [
      "Disciplines_merged\n",
      "Computer Science          133914\n",
      "Physics                    96677\n",
      "Mathematics                68196\n",
      "Social Sciences             5666\n",
      "Electrical Engineering      5583\n",
      "Biology                     1521\n",
      "Name: count, dtype: int64\n"
     ]
    }
   ],
   "source": [
    "discipline_mapping = {\n",
    "    \"Astronomy\": \"Physics\",\n",
    "    \"Astronomy/Physics\": \"Physics\",\n",
    "    \"Biology\": \"Biology\",\n",
    "    \"Chemistry/Physics\": \"Physics\",\n",
    "    \"Computer Science\": \"Computer Science\",\n",
    "    \"Computer Science/Electrical Engineering\": \"Computer Science\",\n",
    "    \"Computer Science/Mathematics\": \"Mathematics\",\n",
    "    \"Computer Science/Statistics\": \"Mathematics\",\n",
    "    \"Economics\": \"Social Sciences\",\n",
    "    \"Education & instruction\": \"Social Sciences\",\n",
    "    \"Electrical Engineering\": \"Electrical Engineering\",\n",
    "    \"European & international law\": \"Social Sciences\",\n",
    "    \"History\": \"Social Sciences\",\n",
    "    \"Mathematics\": \"Mathematics\",\n",
    "    \"Mathematics/Physics\": \"Physics\",\n",
    "    \"Mathematics/Statistics\": \"Mathematics\",\n",
    "    \"Physics\": \"Physics\",\n",
    "    \"Social Sciences\": \"Social Sciences\",\n",
    "    \"Statistics\": \"Mathematics\",\n",
    "    \"Computer Science/Electrical Engineering/Mathematics\": \"Mathematics\"\n",
    "}\n",
    "# Apply the discipline mapping to the 'Disciplines' column in the DataFrame\n",
    "df['Disciplines_merged'] = df['Disciplines'].map(discipline_mapping)\n",
    "\n",
    "# Check the changes\n",
    "print(df['Disciplines_merged'].value_counts())"
   ],
   "metadata": {
    "collapsed": false,
    "ExecuteTime": {
     "end_time": "2024-11-20T12:19:40.841595400Z",
     "start_time": "2024-11-20T12:19:40.779458800Z"
    }
   }
  },
  {
   "cell_type": "code",
   "execution_count": 5,
   "outputs": [
    {
     "name": "stdout",
     "output_type": "stream",
     "text": [
      "Before oversampling:\n",
      "Disciplines_merged\n",
      "Computer Science          107030\n",
      "Physics                    77448\n",
      "Mathematics                54558\n",
      "Electrical Engineering      4504\n",
      "Social Sciences             4476\n",
      "Biology                     1229\n",
      "Name: count, dtype: int64\n",
      "After oversampling:\n",
      "Disciplines_merged\n",
      "Computer Science          107030\n",
      "Physics                   107030\n",
      "Mathematics               107030\n",
      "Social Sciences           107030\n",
      "Biology                   107030\n",
      "Electrical Engineering    107030\n",
      "Name: count, dtype: int64\n"
     ]
    }
   ],
   "source": [
    "# Preprocessing\n",
    "import pandas as pd\n",
    "from sklearn.feature_extraction.text import TfidfVectorizer\n",
    "from sklearn.model_selection import train_test_split\n",
    "from imblearn.over_sampling import SMOTE\n",
    "\n",
    "# Vectorize the Text Data using TF-IDF\n",
    "vectorizer_Logistic_MultiDiscipline = TfidfVectorizer()\n",
    "X = vectorizer_Logistic_MultiDiscipline.fit_transform(df['processed_abstract'])\n",
    "y = df['Disciplines_merged']\n",
    "\n",
    "# Split the data into training and testing sets\n",
    "X_train, X_test, y_train, y_test = train_test_split(X, y, test_size=0.2, random_state=42)\n",
    "\n",
    "# Oversampling using SMOTE\n",
    "smote = SMOTE(random_state=42)\n",
    "X_train_resampled, y_train_resampled = smote.fit_resample(X_train, y_train)\n",
    "\n",
    "print(\"Before oversampling:\")\n",
    "print(y_train.value_counts())\n",
    "\n",
    "print(\"After oversampling:\")\n",
    "print(pd.Series(y_train_resampled).value_counts())\n"
   ],
   "metadata": {
    "collapsed": false,
    "ExecuteTime": {
     "end_time": "2024-11-20T12:25:04.050343600Z",
     "start_time": "2024-11-20T12:20:00.272378800Z"
    }
   }
  },
  {
   "cell_type": "code",
   "execution_count": 8,
   "outputs": [
    {
     "name": "stdout",
     "output_type": "stream",
     "text": [
      "Fitting 5 folds for each of 3 candidates, totalling 15 fits\n",
      "Best parameters found:  {'C': 1000, 'max_iter': 1000}\n",
      "Best cross-validation score:  0.9668286150300538\n",
      "Accuracy: 0.9061176017460522\n",
      "Classification Report:\n",
      "                         precision    recall  f1-score   support\n",
      "\n",
      "               Biology       0.81      0.74      0.78       292\n",
      "      Computer Science       0.94      0.91      0.93     26884\n",
      "Electrical Engineering       0.34      0.56      0.42      1079\n",
      "           Mathematics       0.86      0.87      0.86     13638\n",
      "               Physics       0.96      0.95      0.95     19229\n",
      "       Social Sciences       0.72      0.82      0.77      1190\n",
      "\n",
      "              accuracy                           0.91     62312\n",
      "             macro avg       0.77      0.81      0.79     62312\n",
      "          weighted avg       0.91      0.91      0.91     62312\n",
      "\n"
     ]
    }
   ],
   "source": [
    "# 2 Logistic_MultiDisciplines\n",
    "from sklearn.linear_model import LogisticRegression\n",
    "from sklearn.metrics import accuracy_score, classification_report\n",
    "from sklearn.model_selection import GridSearchCV\n",
    "\n",
    "param_grid = {\n",
    "    # 'C': [0.01, 0.1, 1, 10, 100, 1000],\n",
    "    'C': [1000, 10000, 100000], # 正则化强度\n",
    "    # 'penalty': ['l1', 'l2'],                      # 正则化类型\n",
    "    # 'solver': ['liblinear', 'lbfgs', 'saga'],     # 求解器\n",
    "    'max_iter': [1000]\n",
    "}\n",
    "\n",
    "model_Logistic_MultiDiscipline_oversampling = LogisticRegression()\n",
    "grid_search = GridSearchCV(estimator=model_Logistic_MultiDiscipline_oversampling, param_grid=param_grid, cv=5, n_jobs=-1, verbose=2)\n",
    "grid_search.fit(X_train_resampled, y_train_resampled)\n",
    "\n",
    "# 输出最佳参数和最佳得分\n",
    "print(\"Best parameters found: \", grid_search.best_params_)\n",
    "print(\"Best cross-validation score: \", grid_search.best_score_)\n",
    "\n",
    "# 使用最佳参数进行预测\n",
    "best_model = grid_search.best_estimator_\n",
    "y_pred = best_model.predict(X_test)\n",
    "\n",
    "# 评估模型性能\n",
    "print(\"Accuracy:\", accuracy_score(y_test, y_pred))\n",
    "print(\"Classification Report:\\n\", classification_report(y_test, y_pred))"
   ],
   "metadata": {
    "collapsed": false,
    "ExecuteTime": {
     "end_time": "2024-11-20T13:15:20.438047500Z",
     "start_time": "2024-11-20T13:03:44.136757600Z"
    }
   }
  },
  {
   "cell_type": "code",
   "execution_count": 7,
   "outputs": [],
   "source": [
    "# Save model\n",
    "import joblib\n",
    "import os\n",
    "save_dir = 'model'\n",
    "os.makedirs(save_dir, exist_ok=True)\n",
    "\n",
    "model_file_path = os.path.join(save_dir, 'best_Model_Logistic_MultiDiscipline_oversampling.joblib')\n",
    "joblib.dump(best_model, model_file_path)\n",
    "\n",
    "loaded_model = joblib.load(model_file_path)\n",
    "print(\"Model successfully loaded:\", loaded_model)"
   ],
   "metadata": {
    "collapsed": false,
    "ExecuteTime": {
     "end_time": "2024-11-16T12:10:05.305990200Z",
     "start_time": "2024-11-16T12:10:05.279428800Z"
    }
   }
  },
  {
   "cell_type": "code",
   "execution_count": 15,
   "outputs": [],
   "source": [
    "import pandas as pd\n",
    "\n",
    "n_top_keywords = 100\n",
    "feature_names = vectorizer_Logistic_MultiDiscipline.get_feature_names_out()\n",
    "\n",
    "keywords_dict = {}\n",
    "\n",
    "for i, label in enumerate(model_Logistic_MultiDiscipline_oversampling.classes_):\n",
    "    coef = model_Logistic_MultiDiscipline_oversampling.coef_[i]\n",
    "    top_keywords_idx = coef.argsort()[-n_top_keywords:][::-1]\n",
    "\n",
    "    top_keywords = [(feature_names[idx], coef[idx]) for idx in top_keywords_idx]\n",
    "    keywords_dict[label] = top_keywords\n",
    "\n",
    "keywords_df = pd.DataFrame.from_dict(keywords_dict, orient='index')\n",
    "keywords_df.to_csv(\"keywords_from_model/2_keywords_Logistic_oversampling.csv\")\n"
   ],
   "metadata": {
    "collapsed": false,
    "ExecuteTime": {
     "end_time": "2024-11-16T12:18:13.746223300Z",
     "start_time": "2024-11-16T12:18:13.657160100Z"
    }
   }
  }
 ],
 "metadata": {
  "kernelspec": {
   "display_name": "Python 3",
   "language": "python",
   "name": "python3"
  },
  "language_info": {
   "codemirror_mode": {
    "name": "ipython",
    "version": 2
   },
   "file_extension": ".py",
   "mimetype": "text/x-python",
   "name": "python",
   "nbconvert_exporter": "python",
   "pygments_lexer": "ipython2",
   "version": "2.7.6"
  }
 },
 "nbformat": 4,
 "nbformat_minor": 0
}
