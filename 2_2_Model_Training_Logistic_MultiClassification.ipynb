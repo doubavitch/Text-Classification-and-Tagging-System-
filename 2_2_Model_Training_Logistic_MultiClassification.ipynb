{
 "cells": [
  {
   "cell_type": "code",
   "execution_count": 1,
   "metadata": {
    "ExecuteTime": {
     "end_time": "2024-11-16T12:03:00.123761Z",
     "start_time": "2024-11-16T12:02:56.105918700Z"
    },
    "collapsed": true
   },
   "outputs": [
    {
     "name": "stderr",
     "output_type": "stream",
     "text": [
      "/var/folders/rg/q91_28dx1cs9z4ty_4g_hrwc0000gn/T/ipykernel_13309/217804304.py:3: DtypeWarning: Columns (3) have mixed types. Specify dtype option on import or set low_memory=False.\n",
      "  df = pd.read_csv('merged_df_abstract_preprocess_all.csv')\n"
     ]
    }
   ],
   "source": [
    "import  pandas as pd\n",
    "import numpy as np\n",
    "df = pd.read_csv('merged_df_abstract_preprocess_all.csv')\n",
    "df = df.dropna(subset=['processed_abstract'])"
   ]
  },
  {
   "cell_type": "code",
   "execution_count": 2,
   "metadata": {
    "ExecuteTime": {
     "end_time": "2024-11-16T12:03:00.130203800Z",
     "start_time": "2024-11-16T12:03:00.123761Z"
    },
    "collapsed": false
   },
   "outputs": [
    {
     "name": "stdout",
     "output_type": "stream",
     "text": [
      "(311557, 20)\n",
      "Index(['Title', 'Abstract', 'Disciplines', 'Keywords', 'Source',\n",
      "       'Disciplines_split', 'Astronomy', 'Biology', 'Chemistry',\n",
      "       'Computer Science', 'Economics', 'Education & instruction',\n",
      "       'Electrical Engineering', 'European & international law', 'History',\n",
      "       'Mathematics', 'Physics', 'Social Sciences', 'Statistics',\n",
      "       'processed_abstract'],\n",
      "      dtype='object')\n"
     ]
    }
   ],
   "source": [
    "print(df.shape)\n",
    "print(df.columns)"
   ]
  },
  {
   "cell_type": "code",
   "execution_count": 3,
   "metadata": {
    "ExecuteTime": {
     "end_time": "2024-11-16T12:05:26.700475100Z",
     "start_time": "2024-11-16T12:05:14.312404200Z"
    },
    "collapsed": false
   },
   "outputs": [],
   "source": [
    "# Preprocessing\n",
    "import pandas as pd\n",
    "from sklearn.feature_extraction.text import TfidfVectorizer\n",
    "from sklearn.model_selection import train_test_split\n",
    "\n",
    "# Vectorize the Text Data using TF-IDF\n",
    "vectorizer_Logistic_MultiDiscipline = TfidfVectorizer()\n",
    "X = vectorizer_Logistic_MultiDiscipline.fit_transform(df['processed_abstract'])\n",
    "y = df['Disciplines']\n",
    "X_train, X_test, y_train, y_test = train_test_split(X, y, test_size=0.2, random_state=42)"
   ]
  },
  {
   "cell_type": "code",
   "execution_count": 4,
   "metadata": {
    "ExecuteTime": {
     "end_time": "2024-11-16T12:09:26.432488700Z",
     "start_time": "2024-11-16T12:07:36.317198200Z"
    },
    "collapsed": false
   },
   "outputs": [
    {
     "name": "stdout",
     "output_type": "stream",
     "text": [
      "Accuracy: 0.8690621389138529\n",
      "Classification Report:\n",
      "                                                      precision    recall  f1-score   support\n",
      "\n",
      "                                          Astronomy       0.86      0.71      0.78      1887\n",
      "                                  Astronomy/Physics       0.83      0.86      0.84      2640\n",
      "                                            Biology       0.89      0.66      0.76       292\n",
      "                                  Chemistry/Physics       0.79      0.31      0.45       291\n",
      "                                   Computer Science       0.88      0.96      0.92     24139\n",
      "            Computer Science/Electrical Engineering       0.67      0.49      0.56      2745\n",
      "Computer Science/Electrical Engineering/Mathematics       0.49      0.31      0.38       539\n",
      "                       Computer Science/Mathematics       0.68      0.35      0.46       687\n",
      "                        Computer Science/Statistics       0.37      0.08      0.13       404\n",
      "                                          Economics       0.78      0.55      0.65       561\n",
      "                            Education & instruction       0.85      0.64      0.73       182\n",
      "                             Electrical Engineering       0.54      0.41      0.47      1079\n",
      "                       European & international law       0.97      0.60      0.74        97\n",
      "                                            History       0.89      0.60      0.71       134\n",
      "                                        Mathematics       0.88      0.94      0.91     10750\n",
      "                                Mathematics/Physics       0.56      0.12      0.20       426\n",
      "                             Mathematics/Statistics       0.64      0.42      0.50       236\n",
      "                                            Physics       0.92      0.95      0.94     13985\n",
      "                                    Social Sciences       0.82      0.51      0.63       216\n",
      "                                         Statistics       0.76      0.72      0.74      1022\n",
      "\n",
      "                                           accuracy                           0.87     62312\n",
      "                                          macro avg       0.75      0.56      0.63     62312\n",
      "                                       weighted avg       0.86      0.87      0.86     62312\n",
      "\n"
     ]
    }
   ],
   "source": [
    "# 2 Logistic_MultiDisciplines\n",
    "from sklearn.linear_model import LogisticRegression\n",
    "from sklearn.metrics import accuracy_score, classification_report\n",
    "\n",
    "model_Logistic_MultiDiscipline = LogisticRegression(max_iter=1000)\n",
    "model_Logistic_MultiDiscipline.fit(X_train, y_train)\n",
    "\n",
    "y_pred = model_Logistic_MultiDiscipline.predict(X_test)\n",
    "\n",
    "print(\"Accuracy:\", accuracy_score(y_test, y_pred))\n",
    "print(\"Classification Report:\\n\", classification_report(y_test, y_pred))"
   ]
  },
  {
   "cell_type": "code",
   "execution_count": 6,
   "metadata": {
    "ExecuteTime": {
     "end_time": "2024-11-16T12:10:05.305990200Z",
     "start_time": "2024-11-16T12:10:05.279428800Z"
    },
    "collapsed": false
   },
   "outputs": [],
   "source": [
    "# Save model\n",
    "import joblib\n",
    "joblib.dump(model_Logistic_MultiDiscipline, '2_Model_Logistic_MultiDiscipline.joblib')\n",
    "model_Logistic_MultiDiscipline = joblib.load('2_Model_Logistic_MultiDiscipline.joblib')"
   ]
  },
  {
   "cell_type": "code",
   "execution_count": 7,
   "metadata": {
    "ExecuteTime": {
     "end_time": "2024-11-16T12:18:13.746223300Z",
     "start_time": "2024-11-16T12:18:13.657160100Z"
    },
    "collapsed": false
   },
   "outputs": [],
   "source": [
    "import pandas as pd\n",
    "\n",
    "n_top_keywords = 100\n",
    "feature_names = vectorizer_Logistic_MultiDiscipline.get_feature_names_out()\n",
    "\n",
    "keywords_dict = {}\n",
    "\n",
    "for i, label in enumerate(model_Logistic_MultiDiscipline.classes_):\n",
    "    coef = model_Logistic_MultiDiscipline.coef_[i]\n",
    "    top_keywords_idx = coef.argsort()[-n_top_keywords:][::-1]\n",
    "\n",
    "    top_keywords = [(feature_names[idx], coef[idx]) for idx in top_keywords_idx]\n",
    "    keywords_dict[label] = top_keywords\n",
    "\n",
    "keywords_df = pd.DataFrame.from_dict(keywords_dict, orient='index')\n",
    "keywords_df.to_csv(\"keywords_from_model/2_keywords_Logistic.csv\")\n"
   ]
  }
 ],
 "metadata": {
  "kernelspec": {
   "display_name": "env",
   "language": "python",
   "name": "python3"
  },
  "language_info": {
   "codemirror_mode": {
    "name": "ipython",
    "version": 3
   },
   "file_extension": ".py",
   "mimetype": "text/x-python",
   "name": "python",
   "nbconvert_exporter": "python",
   "pygments_lexer": "ipython3",
   "version": "3.9.6"
  }
 },
 "nbformat": 4,
 "nbformat_minor": 0
}
