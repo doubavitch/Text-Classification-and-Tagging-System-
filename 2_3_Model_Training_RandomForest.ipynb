{
 "cells": [
  {
   "cell_type": "code",
   "execution_count": 1,
   "metadata": {
    "collapsed": true,
    "ExecuteTime": {
     "end_time": "2024-11-16T12:22:27.832147400Z",
     "start_time": "2024-11-16T12:22:23.603280700Z"
    }
   },
   "outputs": [
    {
     "name": "stderr",
     "output_type": "stream",
     "text": [
      "C:\\Users\\cshch\\AppData\\Local\\Temp\\ipykernel_18780\\2488393254.py:3: DtypeWarning: Columns (3) have mixed types. Specify dtype option on import or set low_memory=False.\n",
      "  df = pd.read_csv('merged_df_abstract_preprocess_all.csv')\n"
     ]
    }
   ],
   "source": [
    "import  pandas as pd\n",
    "import numpy as np\n",
    "df = pd.read_csv('merged_df_abstract_preprocess_all.csv')\n",
    "df = df.dropna(subset=['processed_abstract'])"
   ]
  },
  {
   "cell_type": "code",
   "execution_count": 2,
   "outputs": [
    {
     "name": "stdout",
     "output_type": "stream",
     "text": [
      "(311557, 20)\n",
      "Index(['Title', 'Abstract', 'Disciplines', 'Keywords', 'Source',\n",
      "       'Disciplines_split', 'Astronomy', 'Biology', 'Chemistry',\n",
      "       'Computer Science', 'Economics', 'Education & instruction',\n",
      "       'Electrical Engineering', 'European & international law', 'History',\n",
      "       'Mathematics', 'Physics', 'Social Sciences', 'Statistics',\n",
      "       'processed_abstract'],\n",
      "      dtype='object')\n"
     ]
    }
   ],
   "source": [
    "print(df.shape)\n",
    "print(df.columns)"
   ],
   "metadata": {
    "collapsed": false,
    "ExecuteTime": {
     "end_time": "2024-11-16T12:22:31.844738400Z",
     "start_time": "2024-11-16T12:22:31.840330300Z"
    }
   }
  },
  {
   "cell_type": "code",
   "execution_count": 3,
   "outputs": [],
   "source": [
    "# Preprocessing\n",
    "import pandas as pd\n",
    "from sklearn.feature_extraction.text import TfidfVectorizer\n",
    "from sklearn.model_selection import train_test_split\n",
    "\n",
    "# Vectorize the Text Data using TF-IDF\n",
    "vectorizer = TfidfVectorizer()\n",
    "X = vectorizer.fit_transform(df['processed_abstract'])\n",
    "y = df['Disciplines']\n",
    "X_train, X_test, y_train, y_test = train_test_split(X, y, test_size=0.2, random_state=42)"
   ],
   "metadata": {
    "collapsed": false,
    "ExecuteTime": {
     "end_time": "2024-11-16T12:23:41.335108100Z",
     "start_time": "2024-11-16T12:23:28.877216500Z"
    }
   }
  },
  {
   "cell_type": "code",
   "execution_count": 5,
   "outputs": [
    {
     "name": "stdout",
     "output_type": "stream",
     "text": [
      "Accuracy: 0.7920304275259982\n"
     ]
    },
    {
     "name": "stderr",
     "output_type": "stream",
     "text": [
      "C:\\Users\\cshch\\AppData\\Roaming\\Python\\Python311\\site-packages\\sklearn\\metrics\\_classification.py:1531: UndefinedMetricWarning: Precision is ill-defined and being set to 0.0 in labels with no predicted samples. Use `zero_division` parameter to control this behavior.\n",
      "  _warn_prf(average, modifier, f\"{metric.capitalize()} is\", len(result))\n",
      "C:\\Users\\cshch\\AppData\\Roaming\\Python\\Python311\\site-packages\\sklearn\\metrics\\_classification.py:1531: UndefinedMetricWarning: Precision is ill-defined and being set to 0.0 in labels with no predicted samples. Use `zero_division` parameter to control this behavior.\n",
      "  _warn_prf(average, modifier, f\"{metric.capitalize()} is\", len(result))\n"
     ]
    },
    {
     "name": "stdout",
     "output_type": "stream",
     "text": [
      "Classification Report:\n",
      "                                                      precision    recall  f1-score   support\n",
      "\n",
      "                                          Astronomy       0.93      0.40      0.56      1887\n",
      "                                  Astronomy/Physics       0.80      0.73      0.76      2640\n",
      "                                            Biology       0.97      0.23      0.38       292\n",
      "                                  Chemistry/Physics       0.00      0.00      0.00       291\n",
      "                                   Computer Science       0.74      0.98      0.85     24139\n",
      "            Computer Science/Electrical Engineering       0.84      0.01      0.02      2745\n",
      "Computer Science/Electrical Engineering/Mathematics       0.52      0.03      0.06       539\n",
      "                       Computer Science/Mathematics       0.81      0.02      0.05       687\n",
      "                        Computer Science/Statistics       0.00      0.00      0.00       404\n",
      "                                          Economics       0.83      0.01      0.02       561\n",
      "                            Education & instruction       0.84      0.20      0.33       182\n",
      "                             Electrical Engineering       0.66      0.07      0.12      1079\n",
      "                       European & international law       1.00      0.13      0.24        97\n",
      "                                            History       0.94      0.35      0.51       134\n",
      "                                        Mathematics       0.84      0.90      0.87     10750\n",
      "                                Mathematics/Physics       1.00      0.01      0.02       426\n",
      "                             Mathematics/Statistics       0.00      0.00      0.00       236\n",
      "                                            Physics       0.85      0.92      0.88     13985\n",
      "                                    Social Sciences       0.93      0.18      0.30       216\n",
      "                                         Statistics       0.82      0.05      0.10      1022\n",
      "\n",
      "                                           accuracy                           0.79     62312\n",
      "                                          macro avg       0.72      0.26      0.30     62312\n",
      "                                       weighted avg       0.79      0.79      0.74     62312\n",
      "\n"
     ]
    },
    {
     "name": "stderr",
     "output_type": "stream",
     "text": [
      "C:\\Users\\cshch\\AppData\\Roaming\\Python\\Python311\\site-packages\\sklearn\\metrics\\_classification.py:1531: UndefinedMetricWarning: Precision is ill-defined and being set to 0.0 in labels with no predicted samples. Use `zero_division` parameter to control this behavior.\n",
      "  _warn_prf(average, modifier, f\"{metric.capitalize()} is\", len(result))\n"
     ]
    }
   ],
   "source": [
    "# 3 RandomForest\n",
    "from sklearn.ensemble import RandomForestClassifier\n",
    "from sklearn.metrics import accuracy_score, classification_report\n",
    "import joblib\n",
    "\n",
    "model_rf = RandomForestClassifier(n_estimators=100, random_state=42)\n",
    "model_rf.fit(X_train, y_train)\n",
    "joblib.dump(model_rf, 'model/3_Model_RF.joblib')\n",
    "\n",
    "y_pred = model_rf.predict(X_test)\n",
    "\n",
    "print(\"Accuracy:\", accuracy_score(y_test, y_pred))\n",
    "print(\"Classification Report:\\n\", classification_report(y_test, y_pred))"
   ],
   "metadata": {
    "collapsed": false,
    "ExecuteTime": {
     "end_time": "2024-11-16T12:58:38.435931400Z",
     "start_time": "2024-11-16T12:27:18.765096600Z"
    }
   }
  },
  {
   "cell_type": "code",
   "execution_count": 7,
   "outputs": [],
   "source": [
    "import pandas as pd\n",
    "\n",
    "n_top_keywords = 100\n",
    "feature_names = vectorizer.get_feature_names_out()\n",
    "\n",
    "keywords_dict = {}\n",
    "\n",
    "# Using feature importances for RandomForest instead of coef_\n",
    "for i, label in enumerate(model_rf.classes_):\n",
    "    # Extract the feature importances for each class\n",
    "    importances = model_rf.feature_importances_\n",
    "    top_keywords_idx = importances.argsort()[-n_top_keywords:][::-1]\n",
    "\n",
    "    top_keywords = [(feature_names[idx], importances[idx]) for idx in top_keywords_idx]\n",
    "    keywords_dict[label] = top_keywords\n",
    "\n",
    "keywords_df = pd.DataFrame.from_dict(keywords_dict, orient='index')\n",
    "keywords_df.to_csv(\"keywords_from_model/3_keywords_RandomForest.csv\")\n",
    "\n",
    "# Couldn't provide the keywords for each specific category"
   ],
   "metadata": {
    "collapsed": false,
    "ExecuteTime": {
     "end_time": "2024-11-16T13:04:36.926270600Z",
     "start_time": "2024-11-16T13:04:33.850122400Z"
    }
   }
  }
 ],
 "metadata": {
  "kernelspec": {
   "display_name": "Python 3",
   "language": "python",
   "name": "python3"
  },
  "language_info": {
   "codemirror_mode": {
    "name": "ipython",
    "version": 2
   },
   "file_extension": ".py",
   "mimetype": "text/x-python",
   "name": "python",
   "nbconvert_exporter": "python",
   "pygments_lexer": "ipython2",
   "version": "2.7.6"
  }
 },
 "nbformat": 4,
 "nbformat_minor": 0
}
