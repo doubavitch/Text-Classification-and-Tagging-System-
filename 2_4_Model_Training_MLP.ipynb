{
 "cells": [
  {
   "cell_type": "code",
   "execution_count": 1,
   "metadata": {
    "collapsed": true,
    "ExecuteTime": {
     "end_time": "2024-11-16T13:08:24.731703600Z",
     "start_time": "2024-11-16T13:08:20.098748300Z"
    }
   },
   "outputs": [
    {
     "name": "stderr",
     "output_type": "stream",
     "text": [
      "C:\\Users\\cshch\\AppData\\Local\\Temp\\ipykernel_20660\\2488393254.py:3: DtypeWarning: Columns (3) have mixed types. Specify dtype option on import or set low_memory=False.\n",
      "  df = pd.read_csv('merged_df_abstract_preprocess_all.csv')\n"
     ]
    }
   ],
   "source": [
    "import  pandas as pd\n",
    "import numpy as np\n",
    "df = pd.read_csv('merged_df_abstract_preprocess_all.csv')\n",
    "df = df.dropna(subset=['processed_abstract'])"
   ]
  },
  {
   "cell_type": "code",
   "execution_count": 2,
   "outputs": [
    {
     "name": "stdout",
     "output_type": "stream",
     "text": [
      "(311557, 20)\n",
      "Index(['Title', 'Abstract', 'Disciplines', 'Keywords', 'Source',\n",
      "       'Disciplines_split', 'Astronomy', 'Biology', 'Chemistry',\n",
      "       'Computer Science', 'Economics', 'Education & instruction',\n",
      "       'Electrical Engineering', 'European & international law', 'History',\n",
      "       'Mathematics', 'Physics', 'Social Sciences', 'Statistics',\n",
      "       'processed_abstract'],\n",
      "      dtype='object')\n"
     ]
    }
   ],
   "source": [
    "print(df.shape)\n",
    "print(df.columns)"
   ],
   "metadata": {
    "collapsed": false,
    "ExecuteTime": {
     "end_time": "2024-11-16T13:08:26.733371600Z",
     "start_time": "2024-11-16T13:08:26.732140400Z"
    }
   }
  },
  {
   "cell_type": "code",
   "execution_count": 3,
   "outputs": [],
   "source": [
    "# Preprocessing\n",
    "import pandas as pd\n",
    "from sklearn.feature_extraction.text import TfidfVectorizer\n",
    "from sklearn.model_selection import train_test_split\n",
    "\n",
    "# Vectorize the Text Data using TF-IDF\n",
    "vectorizer = TfidfVectorizer()\n",
    "X = vectorizer.fit_transform(df['processed_abstract'])\n",
    "y = df['Disciplines']\n",
    "X_train, X_test, y_train, y_test = train_test_split(X, y, test_size=0.2, random_state=42)"
   ],
   "metadata": {
    "collapsed": false,
    "ExecuteTime": {
     "end_time": "2024-11-16T13:08:43.692396200Z",
     "start_time": "2024-11-16T13:08:29.308724Z"
    }
   }
  },
  {
   "cell_type": "code",
   "execution_count": 5,
   "outputs": [
    {
     "name": "stderr",
     "output_type": "stream",
     "text": [
      "C:\\Users\\cshch\\AppData\\Roaming\\Python\\Python311\\site-packages\\sklearn\\neural_network\\_multilayer_perceptron.py:697: UserWarning: Training interrupted by user.\n",
      "  warnings.warn(\"Training interrupted by user.\")\n"
     ]
    },
    {
     "name": "stdout",
     "output_type": "stream",
     "text": [
      "Accuracy: 0.8580209269482604\n",
      "Classification Report:\n",
      "                                                      precision    recall  f1-score   support\n",
      "\n",
      "                                          Astronomy       0.79      0.74      0.77      1887\n",
      "                                  Astronomy/Physics       0.82      0.83      0.82      2640\n",
      "                                            Biology       0.85      0.74      0.79       292\n",
      "                                  Chemistry/Physics       0.63      0.55      0.59       291\n",
      "                                   Computer Science       0.91      0.92      0.92     24139\n",
      "            Computer Science/Electrical Engineering       0.57      0.54      0.55      2745\n",
      "Computer Science/Electrical Engineering/Mathematics       0.44      0.36      0.40       539\n",
      "                       Computer Science/Mathematics       0.44      0.39      0.41       687\n",
      "                        Computer Science/Statistics       0.30      0.23      0.26       404\n",
      "                                          Economics       0.70      0.66      0.68       561\n",
      "                            Education & instruction       0.78      0.75      0.76       182\n",
      "                             Electrical Engineering       0.47      0.47      0.47      1079\n",
      "                       European & international law       0.86      0.73      0.79        97\n",
      "                                            History       0.86      0.75      0.80       134\n",
      "                                        Mathematics       0.89      0.91      0.90     10750\n",
      "                                Mathematics/Physics       0.37      0.28      0.32       426\n",
      "                             Mathematics/Statistics       0.57      0.50      0.53       236\n",
      "                                            Physics       0.93      0.93      0.93     13985\n",
      "                                    Social Sciences       0.73      0.71      0.72       216\n",
      "                                         Statistics       0.72      0.71      0.71      1022\n",
      "\n",
      "                                           accuracy                           0.86     62312\n",
      "                                          macro avg       0.68      0.64      0.66     62312\n",
      "                                       weighted avg       0.85      0.86      0.86     62312\n",
      "\n"
     ]
    }
   ],
   "source": [
    "# 3 RandomForest\n",
    "from sklearn.neural_network import MLPClassifier\n",
    "from sklearn.metrics import accuracy_score, classification_report\n",
    "import joblib\n",
    "\n",
    "model_mlp = MLPClassifier(hidden_layer_sizes=(100,), max_iter=1000, random_state=42)\n",
    "model_mlp.fit(X_train, y_train)\n",
    "\n",
    "joblib.dump(model_mlp, 'model/4_Model_MLP.joblib')\n",
    "y_pred = model_mlp.predict(X_test)\n",
    "\n",
    "print(\"Accuracy:\", accuracy_score(y_test, y_pred))\n",
    "print(\"Classification Report:\\n\", classification_report(y_test, y_pred))"
   ],
   "metadata": {
    "collapsed": false,
    "ExecuteTime": {
     "end_time": "2024-11-16T18:56:31.249629800Z",
     "start_time": "2024-11-16T16:04:19.354512700Z"
    }
   }
  },
  {
   "cell_type": "code",
   "execution_count": 7,
   "outputs": [],
   "source": [
    "import numpy as np\n",
    "import pandas as pd\n",
    "\n",
    "feature_names = vectorizer.get_feature_names_out()\n",
    "weights_input_hidden = model_mlp.coefs_[0]\n",
    "weights_hidden_output = model_mlp.coefs_[1]\n",
    "\n",
    "n_top_keywords = 100\n",
    "keywords_dict = {}\n",
    "\n",
    "for i, label in enumerate(model_mlp.classes_):\n",
    "    class_weights = weights_hidden_output[:, i]\n",
    "    top_keywords_idx = np.argsort(class_weights)[-n_top_keywords:][::-1]\n",
    "    top_keywords = [(feature_names[idx], class_weights[idx]) for idx in top_keywords_idx]\n",
    "    keywords_dict[label] = top_keywords\n",
    "\n",
    "keywords_df = pd.DataFrame.from_dict(keywords_dict, orient='index')\n",
    "keywords_df.to_csv(\"keywords_from_model/4_keywords_MLP.csv\")\n"
   ],
   "metadata": {
    "collapsed": false,
    "ExecuteTime": {
     "end_time": "2024-11-16T13:04:36.926270600Z",
     "start_time": "2024-11-16T13:04:33.850122400Z"
    }
   }
  }
 ],
 "metadata": {
  "kernelspec": {
   "display_name": "Python 3",
   "language": "python",
   "name": "python3"
  },
  "language_info": {
   "codemirror_mode": {
    "name": "ipython",
    "version": 2
   },
   "file_extension": ".py",
   "mimetype": "text/x-python",
   "name": "python",
   "nbconvert_exporter": "python",
   "pygments_lexer": "ipython2",
   "version": "2.7.6"
  }
 },
 "nbformat": 4,
 "nbformat_minor": 0
}
